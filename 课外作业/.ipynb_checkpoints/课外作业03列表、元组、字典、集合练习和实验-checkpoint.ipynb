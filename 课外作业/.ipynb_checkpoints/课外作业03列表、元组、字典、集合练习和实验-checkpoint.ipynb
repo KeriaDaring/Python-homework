{
 "cells": [
  {
   "cell_type": "markdown",
   "metadata": {},
   "source": [
    "# task-05 字符串、列表、元组、字典、集合练习和实验"
   ]
  },
  {
   "cell_type": "markdown",
   "metadata": {},
   "source": [
    "## 列表练习"
   ]
  },
  {
   "cell_type": "markdown",
   "metadata": {},
   "source": [
    "1.假定有下面的列表:    names = ['fentiao','fendai','fensi','apple']   输出结果为:'I have fentiao, fendai, fensi and apple.'"
   ]
  },
  {
   "cell_type": "code",
   "execution_count": 3,
   "metadata": {},
   "outputs": [
    {
     "name": "stdout",
     "output_type": "stream",
     "text": [
      "I have fentiao,fendai,fensi,apple\n"
     ]
    }
   ],
   "source": [
    "names = ['fentiao','fendai','fensi','apple']\n",
    "print('I have', ','.join(names))"
   ]
  },
  {
   "cell_type": "markdown",
   "metadata": {},
   "source": [
    "2.list1 = ['life','is','short']   list2 = ['you','need','python']    \n",
    "将两个列表合并为一个列表并排序输出   "
   ]
  },
  {
   "cell_type": "code",
   "execution_count": 7,
   "metadata": {},
   "outputs": [
    {
     "data": {
      "text/plain": [
       "['is', 'life', 'need', 'python', 'short', 'you']"
      ]
     },
     "execution_count": 7,
     "metadata": {},
     "output_type": "execute_result"
    }
   ],
   "source": [
    "list1 = ['life','is','short'] \n",
    "list2 = ['you','need','python']\n",
    "result_list = (list1 + list2)\n",
    "result_list.sort()\n",
    "result_list"
   ]
  },
  {
   "cell_type": "markdown",
   "metadata": {},
   "source": [
    "3.系统里面有多个用户，用户的信息目前保存在列表里面（一一对应的关系）\n",
    "```\n",
    "    users = ['root','westos']\n",
    "    passwd = ['123','456']\n",
    "\n",
    "要求：用户输入用户名和密码\n",
    "    1).判断用户是否存在。如果用户不存在，提示用户不存在，结束\n",
    "    2).如果存在\n",
    "        1) 判断用户密码是否正确，如果正确，登陆成功，退出循环\n",
    "        2）如果密码不正确，提示密码不正确，结束\n",
    "```"
   ]
  },
  {
   "cell_type": "code",
   "execution_count": 16,
   "metadata": {},
   "outputs": [
    {
     "name": "stdout",
     "output_type": "stream",
     "text": [
      "########## Input part ##########\n"
     ]
    },
    {
     "name": "stdin",
     "output_type": "stream",
     "text": [
      "请输入用户名 root\n"
     ]
    },
    {
     "name": "stdout",
     "output_type": "stream",
     "text": [
      "########## Validate part ##########\n"
     ]
    },
    {
     "name": "stdin",
     "output_type": "stream",
     "text": [
      "请输入密码 123\n"
     ]
    },
    {
     "name": "stdout",
     "output_type": "stream",
     "text": [
      "登陆成功\n"
     ]
    }
   ],
   "source": [
    "\n",
    "users = ['root','westos']\n",
    "passwd = ['123','456']\n",
    "\n",
    "\n",
    "print(\"########## Input part ##########\")\n",
    "username = input(\"请输入用户名\")\n",
    "print(\"########## Validate part ##########\")\n",
    "index = users.index(username)\n",
    "if index != -1:\n",
    "    while(True):\n",
    "        password = input(\"请输入密码\")\n",
    "        if password == passwd[index]:\n",
    "            print(\"登陆成功\")\n",
    "            break\n",
    "        else:\n",
    "            print(\"密码错误\")\n",
    "            continue\n",
    "else:\n",
    "    print(\"用户名不存在\")"
   ]
  },
  {
   "cell_type": "markdown",
   "metadata": {},
   "source": [
    "4.列表的函数操作练习"
   ]
  },
  {
   "cell_type": "markdown",
   "metadata": {},
   "source": [
    "list1 = ['life','is','short']  ，  list2 = ['you','need','python']    "
   ]
  },
  {
   "cell_type": "code",
   "execution_count": 33,
   "metadata": {},
   "outputs": [
    {
     "name": "stdout",
     "output_type": "stream",
     "text": [
      "['life', 'is', 'short', ['you', 'need', 'python']]\n",
      "['life', ['you', 'need', 'python'], 'is', 'short', ['you', 'need', 'python']]\n"
     ]
    }
   ],
   "source": [
    "# （1）   \n",
    "# 将两个列表合并为一个列表并排序输出 \n",
    "\n",
    "list1 = ['life','is','short']\n",
    "list2 = ['you','need','python']\n",
    "\n",
    "# 将list2作为list1的一个元素加入到list1\n",
    "\n",
    "list1.append(list2)\n",
    "print(list1)\n",
    "\n",
    "# 将list2作为一个元素插入到“life”之后\n",
    "\n",
    "list1.insert(1, list2)\n",
    "print(list1)"
   ]
  },
  {
   "cell_type": "code",
   "execution_count": 34,
   "metadata": {},
   "outputs": [
    {
     "name": "stdout",
     "output_type": "stream",
     "text": [
      "['you', 'need', 'python']\n",
      "['you', 'python']\n",
      "['life', ['you', 'python'], 'is', 'short', ['you', 'python']]\n",
      "['you', 'python']\n",
      "['life', ['you', 'python'], 'is', 'short']\n"
     ]
    }
   ],
   "source": [
    "# （2）   \n",
    "#  将list2的“need”删除\n",
    "\n",
    "print(list2)\n",
    "list2.remove(\"need\")\n",
    "print(list2)\n",
    "\n",
    "#  将第一步操作后的list1的最后一个元素输出，并从list1中移除\n",
    "print(list1)\n",
    "print(list1.pop())\n",
    "print(list1)\n"
   ]
  },
  {
   "cell_type": "code",
   "execution_count": 35,
   "metadata": {},
   "outputs": [
    {
     "name": "stdout",
     "output_type": "stream",
     "text": [
      "1\n",
      "3\n"
     ]
    }
   ],
   "source": [
    "# （3） \n",
    "# 统计list1中“is”出现的次数   \n",
    "print(list1.count(\"is\"))\n",
    "# 输出list1中“short”的位置\n",
    "print(list1.index(\"short\"))"
   ]
  },
  {
   "cell_type": "code",
   "execution_count": 36,
   "metadata": {},
   "outputs": [
    {
     "name": "stdout",
     "output_type": "stream",
     "text": [
      "##########将list2逆序输出（使用切片和函数两种方式）#########\n",
      "['python', 'you']\n",
      "['python', 'you']\n",
      "################# 将list2排序并输出 ############\n",
      "['python', 'you']\n",
      "['python', 'you']\n"
     ]
    }
   ],
   "source": [
    "# （4）    \n",
    "# 将list2逆序输出（使用切片和函数两种方式）\n",
    "print(\"##########将list2逆序输出（使用切片和函数两种方式）#########\")\n",
    "print(list2[::-1])\n",
    "list2.reverse()\n",
    "print(list2)\n",
    "# 将list2排序并输出\n",
    "print(\"################# 将list2排序并输出 ############\")\n",
    "print(list2)\n",
    "list2.sort()\n",
    "print(list2)"
   ]
  },
  {
   "cell_type": "markdown",
   "metadata": {},
   "source": [
    "5.有1,2,3,4,5,6,7,8 八个数字，能组成多少个互不相同且无重复数字的两位数？"
   ]
  },
  {
   "cell_type": "code",
   "execution_count": 39,
   "metadata": {},
   "outputs": [
    {
     "data": {
      "text/plain": [
       "['12',\n",
       " '13',\n",
       " '14',\n",
       " '15',\n",
       " '16',\n",
       " '17',\n",
       " '18',\n",
       " '21',\n",
       " '23',\n",
       " '24',\n",
       " '25',\n",
       " '26',\n",
       " '27',\n",
       " '28',\n",
       " '31',\n",
       " '32',\n",
       " '34',\n",
       " '35',\n",
       " '36',\n",
       " '37',\n",
       " '38',\n",
       " '41',\n",
       " '42',\n",
       " '43',\n",
       " '45',\n",
       " '46',\n",
       " '47',\n",
       " '48',\n",
       " '51',\n",
       " '52',\n",
       " '53',\n",
       " '54',\n",
       " '56',\n",
       " '57',\n",
       " '58',\n",
       " '61',\n",
       " '62',\n",
       " '63',\n",
       " '64',\n",
       " '65',\n",
       " '67',\n",
       " '68',\n",
       " '71',\n",
       " '72',\n",
       " '73',\n",
       " '74',\n",
       " '75',\n",
       " '76',\n",
       " '78',\n",
       " '81',\n",
       " '82',\n",
       " '83',\n",
       " '84',\n",
       " '85',\n",
       " '86',\n",
       " '87']"
      ]
     },
     "execution_count": 39,
     "metadata": {},
     "output_type": "execute_result"
    }
   ],
   "source": [
    "result = [f'{i}{j}' for i in range(1,9) for j in range(1,9) if i != j]\n",
    "result"
   ]
  },
  {
   "cell_type": "markdown",
   "metadata": {},
   "source": [
    "## 元组练习"
   ]
  },
  {
   "cell_type": "markdown",
   "metadata": {},
   "source": [
    "```\n",
    "1.创建一个只有一个元素的元组\n",
    "```"
   ]
  },
  {
   "cell_type": "code",
   "execution_count": 40,
   "metadata": {},
   "outputs": [
    {
     "data": {
      "text/plain": [
       "('hello',)"
      ]
     },
     "execution_count": 40,
     "metadata": {},
     "output_type": "execute_result"
    }
   ],
   "source": [
    "('hello',)"
   ]
  },
  {
   "cell_type": "markdown",
   "metadata": {},
   "source": [
    "```\n",
    "2. 写出下面程序的运行结果。\n",
    "temp=(\"Li\",\"Yu\",\"Song\",\"Gao\")    \n",
    "temp=temp[:2]+(\"Tang\",)+temp[2:]  \n",
    "print(temp)\n",
    "回答问题：\n",
    "(\"Tang\",)的括号可以不要吗？试一下。\n",
    "(\"Tang\",)的逗号可以不要吗？试一下。\n",
    "元组是不可变对象，上面的语句为什么可以得到一个‘变化了的’元组？\n",
    "```"
   ]
  },
  {
   "cell_type": "code",
   "execution_count": 45,
   "metadata": {},
   "outputs": [
    {
     "name": "stdout",
     "output_type": "stream",
     "text": [
      "('Tang',)\n",
      "Tang\n"
     ]
    }
   ],
   "source": [
    "## 运行结果为 （\"Li\",\"Yu\",\"Tang\",\"Song\",\"Gao\"）\n",
    "temp=\"Tang\",\n",
    "print(temp) ## 可以捏\n",
    "temp=\"Tang\" ## 不可以捏\n",
    "print(temp)\n",
    "##### 因为 切片 不改变原对象的元素数据"
   ]
  },
  {
   "cell_type": "markdown",
   "metadata": {},
   "source": [
    "## 字典练习"
   ]
  },
  {
   "cell_type": "markdown",
   "metadata": {},
   "source": [
    "dict = {\"k1\":\"v1\",\"k2\":\"v2\",\"k3\":”v3\"}\n",
    "\n",
    "1、请循环遍历出所有的key   \n",
    "2、请循环遍历出所有的value   \n",
    "3、请循环遍历出所有的key和value   \n",
    "4、请在字典中增加一个键值对,\"k4\":\"v4\"，输出添加后的字典   \n",
    "5、请删除字典中键值对\"k1\":\"v1\",并输出删除后的结果\n",
    "6、现有dict2 = {\"k1\":\"v11\",\"a\":\"b\"},通过一行操作使dict2 = {\"k1\":\"v1\",\"k2\":\"v2\",\"k3\":\"v3\",\"a\":\"b\"}"
   ]
  },
  {
   "cell_type": "code",
   "execution_count": 52,
   "metadata": {},
   "outputs": [
    {
     "name": "stdout",
     "output_type": "stream",
     "text": [
      "####### 所有的key ###########\n",
      "['k1', 'k2', 'k3']\n",
      "####### 所有的value ###########\n",
      "['v1', 'v2', 'v3']\n",
      "####### 所有的key和value ##########\n",
      "[('k1', 'v1'), ('k2', 'v2'), ('k3', 'v3')]\n",
      "######## 字典中增加一个键值对,\"k4\":\"v4\" #########\n"
     ]
    },
    {
     "ename": "AttributeError",
     "evalue": "'dict' object has no attribute 'append'",
     "output_type": "error",
     "traceback": [
      "\u001b[0;31m---------------------------------------------------------------------------\u001b[0m",
      "\u001b[0;31mAttributeError\u001b[0m                            Traceback (most recent call last)",
      "Cell \u001b[0;32mIn[52], line 9\u001b[0m\n\u001b[1;32m      7\u001b[0m \u001b[38;5;28mprint\u001b[39m([i \u001b[38;5;28;01mfor\u001b[39;00m i \u001b[38;5;129;01min\u001b[39;00m \u001b[38;5;28mdict\u001b[39m\u001b[38;5;241m.\u001b[39mitems()])\n\u001b[1;32m      8\u001b[0m \u001b[38;5;28mprint\u001b[39m(\u001b[38;5;124m\"\u001b[39m\u001b[38;5;124m######## 字典中增加一个键值对,\u001b[39m\u001b[38;5;130;01m\\\"\u001b[39;00m\u001b[38;5;124mk4\u001b[39m\u001b[38;5;130;01m\\\"\u001b[39;00m\u001b[38;5;124m:\u001b[39m\u001b[38;5;130;01m\\\"\u001b[39;00m\u001b[38;5;124mv4\u001b[39m\u001b[38;5;130;01m\\\"\u001b[39;00m\u001b[38;5;124m #########\u001b[39m\u001b[38;5;124m\"\u001b[39m)\n\u001b[0;32m----> 9\u001b[0m \u001b[38;5;28mdict\u001b[39m\u001b[38;5;241m.\u001b[39mappend({\u001b[38;5;124m\"\u001b[39m\u001b[38;5;124mk4\u001b[39m\u001b[38;5;124m\"\u001b[39m:\u001b[38;5;124m\"\u001b[39m\u001b[38;5;124mk4\u001b[39m\u001b[38;5;124m\"\u001b[39m})\n\u001b[1;32m     10\u001b[0m \u001b[38;5;28mprint\u001b[39m(\u001b[38;5;28mdict\u001b[39m)\n",
      "\u001b[0;31mAttributeError\u001b[0m: 'dict' object has no attribute 'append'"
     ]
    }
   ],
   "source": [
    "dict = {\"k1\":\"v1\",\"k2\":\"v2\",\"k3\":\"v3\"}\n",
    "print(\"####### 所有的key ###########\")\n",
    "print([i for i in dict.keys()])\n",
    "print(\"####### 所有的value ###########\")\n",
    "print([i for i in dict.values()])\n",
    "print(\"####### 所有的key和value ##########\")\n",
    "print([i for i in dict.items()])\n",
    "print(\"######## 字典中增加一个键值对,\\\"k4\\\":\\\"v4\\\" #########\")\n",
    "dict.add({\"k4\":\"k4\"})\n",
    "print(dict)\n"
   ]
  },
  {
   "cell_type": "markdown",
   "metadata": {},
   "source": [
    "## 集合练习"
   ]
  },
  {
   "cell_type": "markdown",
   "metadata": {},
   "source": [
    "定义列表：\n",
    "```\n",
    "     list1 = ['life','is','short'],\n",
    "     list2 = ['you','need','python']\n",
    "     list3 = [1,2,3,4,5,3,4,2,1,5,7,9]\n",
    "完成以下操作：\n",
    "（1）把上述三个列表构造为一个集合 list_set1\n",
    "（2）输出集合的长度\n",
    "（3）把python从集合中移除\n",
    "（4）判断集合中是否存在元素‘you’\n",
    "   ```"
   ]
  },
  {
   "cell_type": "markdown",
   "metadata": {},
   "source": [
    "## 综合练习"
   ]
  },
  {
   "cell_type": "code",
   "execution_count": 1,
   "metadata": {},
   "outputs": [
    {
     "name": "stdout",
     "output_type": "stream",
     "text": [
      "{'张三': 85, '李四': 95, '王五': 80}\n",
      "<zip object at 0x0000021F1DAE0688>\n",
      "('张三', 85) ('李四', 95) ('王五', 80)\n",
      "[('张三', 85), ('李四', 95), ('王五', 80)]\n"
     ]
    }
   ],
   "source": [
    "name = [\"张三\", \"李四\", \"王五\"]  \n",
    "sign = [85, 95, 80]  \n",
    "#使用推导式输出字典形式{'张三': 85, '李四': 95, '王五': 80}"
   ]
  },
  {
   "cell_type": "code",
   "execution_count": 2,
   "metadata": {},
   "outputs": [
    {
     "name": "stdout",
     "output_type": "stream",
     "text": [
      "{'id': '11923020101', 'name': 'tom', 'score': '90'}\n"
     ]
    }
   ],
   "source": [
    "cookies = \"id=11923020101; name=tom; score=90\"\n",
    "#使用推导式输出如下形式：{'id': '11923020101', 'name': 'tom', 'score': '90'}"
   ]
  },
  {
   "cell_type": "code",
   "execution_count": null,
   "metadata": {},
   "outputs": [],
   "source": [
    "#使用字典的函数，统计字符串不同字母的个数"
   ]
  }
 ],
 "metadata": {
  "kernelspec": {
   "display_name": "Python 3 (ipykernel)",
   "language": "python",
   "name": "python3"
  },
  "language_info": {
   "codemirror_mode": {
    "name": "ipython",
    "version": 3
   },
   "file_extension": ".py",
   "mimetype": "text/x-python",
   "name": "python",
   "nbconvert_exporter": "python",
   "pygments_lexer": "ipython3",
   "version": "3.11.5"
  },
  "varInspector": {
   "cols": {
    "lenName": 16,
    "lenType": 16,
    "lenVar": 40
   },
   "kernels_config": {
    "python": {
     "delete_cmd_postfix": "",
     "delete_cmd_prefix": "del ",
     "library": "var_list.py",
     "varRefreshCmd": "print(var_dic_list())"
    },
    "r": {
     "delete_cmd_postfix": ") ",
     "delete_cmd_prefix": "rm(",
     "library": "var_list.r",
     "varRefreshCmd": "cat(var_dic_list()) "
    }
   },
   "types_to_exclude": [
    "module",
    "function",
    "builtin_function_or_method",
    "instance",
    "_Feature"
   ],
   "window_display": false
  }
 },
 "nbformat": 4,
 "nbformat_minor": 4
}
