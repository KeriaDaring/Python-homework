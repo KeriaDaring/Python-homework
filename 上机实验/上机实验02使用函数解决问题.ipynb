{
 "cells": [
  {
   "cell_type": "markdown",
   "metadata": {},
   "source": [
    "# <font color=blue>上机实验02-使用函数解决问题"
   ]
  },
  {
   "cell_type": "markdown",
   "metadata": {},
   "source": [
    "### <font color=red>（一）函数基本使用与基本数学问题求解"
   ]
  },
  {
   "cell_type": "markdown",
   "metadata": {},
   "source": [
    "1.1写一个函数，给定两个整数，返回最大公约数和最小公倍数。"
   ]
  },
  {
   "cell_type": "code",
   "execution_count": 3,
   "metadata": {},
   "outputs": [
    {
     "name": "stdout",
     "output_type": "stream",
     "text": [
      "这两个数的最大公约数是:1, 最小公倍数是:2046\n"
     ]
    }
   ],
   "source": [
    "def gcd(num_1, num_2):\n",
    "    if(num_2 == 0):\n",
    "    \treturn num_1\n",
    "    else:\n",
    "    \ttemp = num_2\n",
    "    \tnum_2 = num_1 % num_2\n",
    "    \tnum_1 = temp\n",
    "    \treturn gcd(num_1, num_2)\n",
    "        \n",
    "def lcm(num_1, num_2):\n",
    "    return int(num_1 * (num_2 / gcd(num_1, num_2)))\n",
    "\n",
    "num_1, num_2 = input(\"请输入两个大于2的正整数，使用空格进行分隔\").split(\" \")\n",
    "\n",
    "num_1 = int(num_1)\n",
    "num_2 = int(num_2)\n",
    "\n",
    "def cal_gcd_lcm(num_1, num_2):\n",
    "    result_gcb = gcd(num_1, num_2)\n",
    "    result_lcm = lcm(num_1, num_2)\n",
    "    print(f\"这两个数的最大公约数是:{result_gcb}, 最小公倍数是:{result_lcm}\")\n",
    "\n",
    "cal_gcd_lcm(num_1, num_2)"
   ]
  },
  {
   "cell_type": "markdown",
   "metadata": {},
   "source": [
    "1.2给定一个二维列表，函数返回输出每行元素之和，每列元素之和，主对角线元素之和"
   ]
  },
  {
   "cell_type": "code",
   "execution_count": 8,
   "metadata": {},
   "outputs": [
    {
     "name": "stdout",
     "output_type": "stream",
     "text": [
      "The row_sum is [10, 40, 82, 70]\n",
      "The column_sum is [10, 40, 82, 70]\n",
      "The diagnoal is 92\n"
     ]
    }
   ],
   "source": [
    "list = [[2,3,4,1],[2,35,1,2],[2,5,51,24],[23,41,2,4]]\n",
    "\n",
    "\n",
    "def row_sum(list):\n",
    "    result = []\n",
    "    for i in range(0,len(list)):\n",
    "        result.append(sum(list[i]))\n",
    "    return result\n",
    "\n",
    "def column_sum(list):\n",
    "    result = []\n",
    "    for i in range(0, len(list[0])):\n",
    "        result.append(sum(list[:][i]))\n",
    "    return result\n",
    "\n",
    "def diagonal_sum(list):\n",
    "    result = 0\n",
    "    if len(list) != len(list[:][0]):\n",
    "        print(\"It's not a square.\")\n",
    "    else:\n",
    "        for i in range(len(list)):\n",
    "            result += list[i][i]\n",
    "    return result\n",
    "\n",
    "def tensor_info(input_list):\n",
    "    row = row_sum(input_list)\n",
    "    column = column_sum(input_list)\n",
    "    diagonal = diagonal_sum(input_list)\n",
    "    print(\"The row_sum is\", row)\n",
    "    print(\"The column_sum is\", column)\n",
    "    print(\"The diagnoal is\", diagonal)\n",
    "\n",
    "tensor_info(list)"
   ]
  },
  {
   "cell_type": "markdown",
   "metadata": {},
   "source": [
    "1.3实现斐波那契数列的函数，参数给定输出的个数，并在主函数中调用输出结果"
   ]
  },
  {
   "cell_type": "code",
   "execution_count": 10,
   "metadata": {},
   "outputs": [
    {
     "name": "stdout",
     "output_type": "stream",
     "text": [
      "1 1 2 3 5 8 13 21 34 55 89 144 233 377 610 987 1597 2584 4181 6765 10946 17711 28657 46368 75025 121393 196418 317811 514229 "
     ]
    }
   ],
   "source": [
    "def fibonacci(count):\n",
    "    a1 = 0\n",
    "    a2 = 1\n",
    "    a3 = 1\n",
    "    for i in range(1, count):\n",
    "        print(a2, end=' ')\n",
    "        a3 = a1 + a2\n",
    "        a1 = a2\n",
    "        a2 = a3\n",
    "\n",
    "fibonacci(30)"
   ]
  },
  {
   "cell_type": "markdown",
   "metadata": {},
   "source": [
    "1.4计算前n个自然数的阶乘之和1!+2!+3!+...+n!"
   ]
  },
  {
   "cell_type": "code",
   "execution_count": 25,
   "metadata": {},
   "outputs": [
    {
     "name": "stdout",
     "output_type": "stream",
     "text": [
      "3\n"
     ]
    }
   ],
   "source": [
    "import math\n",
    "def factorial_sum(n):\n",
    "    sum = 0\n",
    "    for i in range(1, n + 1):\n",
    "        sum += math.factorial(i)\n",
    "    return sum\n",
    "\n",
    "print(factorial_sum(2))"
   ]
  },
  {
   "cell_type": "markdown",
   "metadata": {},
   "source": [
    "### <font color=red>（二）函数排序的基本使用与原理理解"
   ]
  },
  {
   "cell_type": "markdown",
   "metadata": {},
   "source": [
    "2.1. 使用sorted函数排序，写出对a=[[20,1,3], [40,6,2], [10,5,0]]执行a_new=sorted(a)的排序过程"
   ]
  },
  {
   "cell_type": "code",
   "execution_count": 28,
   "metadata": {},
   "outputs": [
    {
     "name": "stdout",
     "output_type": "stream",
     "text": [
      "[[10, 5, 0], [20, 1, 3], [40, 6, 2]]\n"
     ]
    }
   ],
   "source": [
    "a=[[20,1,3], [40,6,2], [10,5,0]]\n",
    "a_new = sorted(a)\n",
    "print(a_new)\n",
    "'''\n",
    "sort排序过程是这样的\n",
    "\n",
    "首先，根据每一个数组的第一个数进行从小到大的排序\n",
    "[10, 5, 0], [20, 1, 3], [40, 6, 2]]\n",
    "\n",
    "如果有一些数组的第一个数相同，再对其第二个数进行从小到大的排序，往后的排序同理\n",
    "这里并未出现上述情况，所以排序结束\n",
    "'''"
   ]
  },
  {
   "cell_type": "markdown",
   "metadata": {},
   "source": [
    "2.2.使用sorted函数排序，写出对a=[[20,1,3], [40,6,2], [10,5,0]]按三个元素的平均值大小进行排序的代码"
   ]
  },
  {
   "cell_type": "code",
   "execution_count": 30,
   "metadata": {},
   "outputs": [
    {
     "name": "stdout",
     "output_type": "stream",
     "text": [
      "[[10, 5, 0], [20, 1, 3], [40, 6, 2]]\n"
     ]
    }
   ],
   "source": [
    "a=[[20,1,3], [40,6,2], [10,5,0]]\n",
    "\n",
    "a_new = sorted(a, key=lambda x: sum(x) / len(x))\n",
    "print(a_new)"
   ]
  },
  {
   "cell_type": "markdown",
   "metadata": {},
   "source": [
    "### <font color=red>（三）使用函数进行问题分析与求解"
   ]
  },
  {
   "cell_type": "markdown",
   "metadata": {},
   "source": [
    "3.1.编写函数, 接收一个列表(包含10个整形数)和一个整形数k, 返回一个新列表.    \n",
    "     函数需求:\n",
    "        - 将列表下标k之前对应(不包含k)的元素逆序;\n",
    "        - 将下标k及之后的元素逆序;"
   ]
  },
  {
   "cell_type": "code",
   "execution_count": 36,
   "metadata": {},
   "outputs": [
    {
     "name": "stdout",
     "output_type": "stream",
     "text": [
      "[5, 2, 1, 25, 41, 3, 2, 7, 23, 35, 34, 56, 8, 57, 31, 2, 5, 1, 23, 351, 131, 1, 26, 1]\n"
     ]
    }
   ],
   "source": [
    "def reverse_list_by_k(list, k):\n",
    "    k_bef = list[k - 1::-1]\n",
    "    k_aft = list[:k - 1:-1]\n",
    "\n",
    "    return [*k_bef, *k_aft]\n",
    "\n",
    "list = [2,3,41,25,1,2,5,1,26,1,131,351,23,1,5,2,31,57,8,56,34,35,23,7]\n",
    "\n",
    "print(reverse_list_by_k(list, 7))\n"
   ]
  },
  {
   "cell_type": "markdown",
   "metadata": {},
   "source": [
    "3.2.模拟“矩阵”运算，给出使用自定义函数循环和使用map函数两种方案，并计算下面的“乘法”运算  \n",
    "t1=[[1,2,3]， [4,5,6]]\n",
    "t2=[[11,22,33],[10,20,30]]"
   ]
  },
  {
   "cell_type": "code",
   "execution_count": 45,
   "metadata": {},
   "outputs": [
    {
     "name": "stdout",
     "output_type": "stream",
     "text": [
      "[[11, 44, 99], [40, 100, 180]]\n"
     ]
    }
   ],
   "source": [
    "t1=[[1,2,3], [4,5,6]]\n",
    "t2=[[11,22,33],[10,20,30]]\n",
    "\n",
    "\n",
    "def cal_mul(t1, t2):\n",
    "    result = []\n",
    "    for i in range(0, len(t1)):\n",
    "        list = []\n",
    "        for j in range(0, len(t1[i])):\n",
    "            list.append(t1[i][j] * t2[i][j])\n",
    "        result.append(list)\n",
    "    return result\n",
    "\n",
    "print(cal_mul(t1, t2))"
   ]
  },
  {
   "cell_type": "markdown",
   "metadata": {},
   "source": [
    "3.3.编写函数，判断输入的ipv4地址的合法性，ipv4地址形如：128.25.11.220。四部分组成，每部分大于等于0小于等于255。中间用英文句点分隔。"
   ]
  },
  {
   "cell_type": "code",
   "execution_count": 40,
   "metadata": {},
   "outputs": [
    {
     "name": "stdout",
     "output_type": "stream",
     "text": [
      "这是一个合法地址\n"
     ]
    }
   ],
   "source": [
    "ipv4 = input(\"请输入一个ipv4地址(e.g. 18.25.11.220)\").split(\".\")\n",
    "if len(ipv4) != 4:\n",
    "    print(\"该地址非法\")\n",
    "else:\n",
    "    try:\n",
    "        for i in ipv4:\n",
    "            num = int(i)\n",
    "            if num < 0 or num > 255:\n",
    "                Exception()      \n",
    "    except Exception:\n",
    "        print(\"该地址非法\")\n",
    "    else:\n",
    "        print(\"这是一个合法地址\")     "
   ]
  }
 ],
 "metadata": {
  "kernelspec": {
   "display_name": "Python 3 (ipykernel)",
   "language": "python",
   "name": "python3"
  },
  "language_info": {
   "codemirror_mode": {
    "name": "ipython",
    "version": 3
   },
   "file_extension": ".py",
   "mimetype": "text/x-python",
   "name": "python",
   "nbconvert_exporter": "python",
   "pygments_lexer": "ipython3",
   "version": "3.11.8"
  },
  "varInspector": {
   "cols": {
    "lenName": 16,
    "lenType": 16,
    "lenVar": 40
   },
   "kernels_config": {
    "python": {
     "delete_cmd_postfix": "",
     "delete_cmd_prefix": "del ",
     "library": "var_list.py",
     "varRefreshCmd": "print(var_dic_list())"
    },
    "r": {
     "delete_cmd_postfix": ") ",
     "delete_cmd_prefix": "rm(",
     "library": "var_list.r",
     "varRefreshCmd": "cat(var_dic_list()) "
    }
   },
   "types_to_exclude": [
    "module",
    "function",
    "builtin_function_or_method",
    "instance",
    "_Feature"
   ],
   "window_display": true
  }
 },
 "nbformat": 4,
 "nbformat_minor": 4
}
