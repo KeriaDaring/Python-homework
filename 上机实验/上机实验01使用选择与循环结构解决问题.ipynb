{
 "cells": [
  {
   "cell_type": "markdown",
   "metadata": {},
   "source": [
    "## <font color=red>上机实验01-选择与循环结构  "
   ]
  },
  {
   "cell_type": "markdown",
   "metadata": {},
   "source": [
    "### <font color=blue>1. if语句实例：输入一个分数，给出五级记分制的成绩"
   ]
  },
  {
   "cell_type": "code",
   "execution_count": 5,
   "metadata": {},
   "outputs": [
    {
     "name": "stdout",
     "output_type": "stream",
     "text": [
      "Your grade is E\n"
     ]
    }
   ],
   "source": [
    "score = float(input(\"请输入一个分数\"))\n",
    "result_list = ['A', 'B', 'C', 'D', 'E']\n",
    "index = 0\n",
    "if (score > 100 or score < 0):\n",
    "    print(\"the input is invalid\")\n",
    "else:\n",
    "    if (score >= 90):\n",
    "        index = 0\n",
    "    elif(score >=80):\n",
    "        index = 1\n",
    "    elif(score >=70):\n",
    "        index = 2\n",
    "    elif(score >=60):\n",
    "        index = 3\n",
    "    else:\n",
    "        index = 4\n",
    "    print(\"Your grade is \" + result_list[index])"
   ]
  },
  {
   "cell_type": "markdown",
   "metadata": {},
   "source": [
    "### <font color=blue>2. if语句实例：输入一个分数，用一条if语句给出五级记分制的成绩"
   ]
  },
  {
   "cell_type": "code",
   "execution_count": 14,
   "metadata": {},
   "outputs": [
    {
     "name": "stdout",
     "output_type": "stream",
     "text": [
      "['D', 'C', 'B', 'A']\n",
      "You grade is A\n"
     ]
    }
   ],
   "source": [
    "import math\n",
    "score = float(input(\"请输入一个分数\"))\n",
    "\n",
    "if (score > 100 or score < 0):\n",
    "    print(\"the input is invalid\")\n",
    "\n",
    "if (score < 60):\n",
    "    print(\"You grade is E\")\n",
    "else:\n",
    "    index = math.floor((score - 60) / 10)\n",
    "    result_list_1 = result_list[3::-1]\n",
    "    print(result_list_1)\n",
    "    print(\"You grade is\", result_list_1[index])\n",
    "\n",
    "\n"
   ]
  },
  {
   "cell_type": "markdown",
   "metadata": {},
   "source": [
    "### <font color=blue>3. 分别使用while循环和for循环计算1到100的和"
   ]
  },
  {
   "cell_type": "code",
   "execution_count": 16,
   "metadata": {},
   "outputs": [
    {
     "name": "stdout",
     "output_type": "stream",
     "text": [
      "The result of while loop is 5050\n",
      "The result of for loop is 5050\n"
     ]
    }
   ],
   "source": [
    "times = 1\n",
    "sum_1 = 0\n",
    "sum_2 = 0\n",
    "while True:\n",
    "    if (times > 100):\n",
    "        break\n",
    "    sum_1 += times\n",
    "    times += 1\n",
    "print(\"The result of while loop is\", sum_1)\n",
    "\n",
    "for i in range(1,101):\n",
    "    sum_2 += i\n",
    "print(\"The result of for loop is\", sum_2)"
   ]
  },
  {
   "cell_type": "markdown",
   "metadata": {},
   "source": [
    "### <font color=blue>4. 打印九九乘法表"
   ]
  },
  {
   "cell_type": "code",
   "execution_count": 1,
   "metadata": {},
   "outputs": [
    {
     "name": "stdout",
     "output_type": "stream",
     "text": [
      "1*1=1\t\n",
      "1*2=2\t2*2=4\t\n",
      "1*3=3\t2*3=6\t3*3=9\t\n",
      "1*4=4\t2*4=8\t3*4=12\t4*4=16\t\n",
      "1*5=5\t2*5=10\t3*5=15\t4*5=20\t5*5=25\t\n",
      "1*6=6\t2*6=12\t3*6=18\t4*6=24\t5*6=30\t6*6=36\t\n",
      "1*7=7\t2*7=14\t3*7=21\t4*7=28\t5*7=35\t6*7=42\t7*7=49\t\n",
      "1*8=8\t2*8=16\t3*8=24\t4*8=32\t5*8=40\t6*8=48\t7*8=56\t8*8=64\t\n",
      "1*9=9\t2*9=18\t3*9=27\t4*9=36\t5*9=45\t6*9=54\t7*9=63\t8*9=72\t9*9=81\t\n"
     ]
    }
   ],
   "source": [
    "for i in range(1, 10):\n",
    "    for j in range(1, i + 1):\n",
    "        print(f\"{j}*{i}={i*j}\", end='\\t')\n",
    "    print()"
   ]
  },
  {
   "cell_type": "markdown",
   "metadata": {},
   "source": [
    "### <font color=blue>5.打印斐波那契数列 1 1 2 3 5 8 13....打印36项,每行打印6个"
   ]
  },
  {
   "cell_type": "code",
   "execution_count": 13,
   "metadata": {},
   "outputs": [
    {
     "name": "stdout",
     "output_type": "stream",
     "text": [
      "1\t1\t2\t3\t5\t8\t\n",
      "13\t21\t34\t55\t89\t144\t\n",
      "233\t377\t610\t987\t1597\t2584\t\n",
      "4181\t6765\t10946\t17711\t28657\t46368\t\n",
      "75025\t121393\t196418\t317811\t514229\t832040\t\n",
      "1346269\t2178309\t3524578\t5702887\t9227465\t14930352\t\n"
     ]
    }
   ],
   "source": [
    "a1 = 0\n",
    "a2 = 1\n",
    "a3 = 1\n",
    "for i in range(1, 7):\n",
    "    for j in range(1, 7):\n",
    "        print(a2, end='\\t')\n",
    "        a1 = a2\n",
    "        a2 = a3\n",
    "        a3 = a1 + a2\n",
    "    print()"
   ]
  },
  {
   "cell_type": "markdown",
   "metadata": {},
   "source": [
    "### <font color=blue>6.输入一行字符，分别统计出其中英文字母、空格、数字和其它字符的个数"
   ]
  },
  {
   "cell_type": "code",
   "execution_count": 10,
   "metadata": {},
   "outputs": [
    {
     "name": "stdout",
     "output_type": "stream",
     "text": [
      "{'char': 17, 'space': 2, 'num': 4, 'other': 3}\n"
     ]
    }
   ],
   "source": [
    "input_str = input(\"请你输入一行字符\")\n",
    "\n",
    "dict = {'char': 0, 'space': 0, 'num': 0, 'other': 0}\n",
    "\n",
    "for char in input_str:\n",
    "    if char.isalpha():\n",
    "        dict['char'] += 1\n",
    "    elif char.isspace():\n",
    "        dict['space'] += 1\n",
    "    elif char.isdigit():\n",
    "        dict['num'] += 1\n",
    "    else:\n",
    "        dict['other'] += 1\n",
    "print(dict) "
   ]
  },
  {
   "cell_type": "markdown",
   "metadata": {},
   "source": [
    "### <font color=blue>7.一球从100米高度自由落下，每次落地后反跳回原高度的一半；再落下，求它在第10次落地时，共经过多少米？第10次反弹多高？"
   ]
  },
  {
   "cell_type": "code",
   "execution_count": 18,
   "metadata": {},
   "outputs": [
    {
     "name": "stdout",
     "output_type": "stream",
     "text": [
      "The total length of the jump is 299.609375\n",
      "The 10 times jump height of the ball is 0.1953125\n"
     ]
    }
   ],
   "source": [
    "inital_height = 100\n",
    "total_height = 100\n",
    "for i in range(1,10):\n",
    "    total_height += inital_height\n",
    "    inital_height /= 2\n",
    "print(\"The total length of the jump is\", total_height)\n",
    "print(\"The 10 times jump height of the ball is\", inital_height)\n",
    "    "
   ]
  },
  {
   "cell_type": "markdown",
   "metadata": {},
   "source": [
    "### <font color=blue>8.输入两个年份，输出这两个年份（含）之间的闰年"
   ]
  },
  {
   "cell_type": "code",
   "execution_count": 15,
   "metadata": {},
   "outputs": [
    {
     "name": "stdout",
     "output_type": "stream",
     "text": [
      "[2012, 2016, 2020, 2024]\n"
     ]
    }
   ],
   "source": [
    "year_1 = int(input(\"请输入第一个年份\"))\n",
    "year_2 = int(input(\"请输入第二个年份\"))\n",
    "\n",
    "leap_years = []\n",
    "\n",
    "for year in range(year_1, year_2 + 1):\n",
    "    if (year % 4 == 0 and year % 100 != 0) or (year % 400 == 0):\n",
    "        leap_years.append(year)\n",
    "\n",
    "print(leap_years)\n"
   ]
  },
  {
   "cell_type": "markdown",
   "metadata": {},
   "source": [
    "### <font color=blue>9.输入某年某月某日，判断这一天是这一年的第几天？"
   ]
  },
  {
   "cell_type": "code",
   "execution_count": null,
   "metadata": {},
   "outputs": [],
   "source": [
    "from datetime import datetime\n",
    "import re\n",
    "\n",
    "def day_of_year(year, month, day):\n",
    "    date = datetime(int(year), int(month), (day))\n",
    "    start_of_year = datetime(year, 1, 1)\n",
    "    delta = date - start_of_year\n",
    "    return delta.days + 1\n",
    "    \n",
    "def is_valid_date(year, month, day):\n",
    "    try:\n",
    "        datetime(year, month, day)\n",
    "        return True\n",
    "    except ValueError:\n",
    "        return False\n",
    "\n",
    "input_str = input(\"请你输入某年某月某日(e.g: 2024年3月15日)\")\n",
    "data_list = re.split(r'[\\u4e00-\\u9fa5]', input_str)\n",
    "data_list.pop()\n",
    "year, month, day = data_list\n",
    "\n",
    "if (is_valid_date(int(year), int(month), int(day))):\n",
    "    print(f\"这一天是今年的第{day_of_year(int(year), int(month), int(day))}天\")\n",
    "else:\n",
    "    print(\"非法输入，请重试\")"
   ]
  },
  {
   "cell_type": "markdown",
   "metadata": {},
   "source": [
    "### <font color=blue>10.阶乘计算。输入n，计算1+2！+3！+……n！的结果"
   ]
  },
  {
   "cell_type": "code",
   "execution_count": 12,
   "metadata": {},
   "outputs": [
    {
     "name": "stdout",
     "output_type": "stream",
     "text": [
      "The result is 409113\n"
     ]
    }
   ],
   "source": [
    "import math\n",
    "n = int(input(\"请输入一个n\"))\n",
    "sum = 0\n",
    "for i in range(1, n):\n",
    "    sum += math.factorial(i)\n",
    "print(\"The result is\", sum)"
   ]
  },
  {
   "cell_type": "markdown",
   "metadata": {},
   "source": [
    "### <font color=blue>11.输入两个大于2的正整数，输出最大公约数和最小公倍数"
   ]
  },
  {
   "cell_type": "code",
   "execution_count": null,
   "metadata": {},
   "outputs": [],
   "source": [
    "def gcd(num_1, num_2):\n",
    "    if(num_2 == 0):\n",
    "    \treturn num_1\n",
    "    else:\n",
    "    \ttemp = num_2\n",
    "    \tnum_2 = num_1 % num_2\n",
    "    \tnum_1 = temp\n",
    "    \treturn gcd(num_1, num_2)\n",
    "        \n",
    "def lcm(num_1, num_2):\n",
    "    return int(num_1 * (num_2 / gcd(num_1, num_2)))\n",
    "\n",
    "num_1, num_2 = input(\"请输入两个大于2的正整数，使用空格进行分隔\").split(\" \")\n",
    "\n",
    "num_1 = int(num_1)\n",
    "num_2 = int(num_2)\n",
    "result_gcb = gcd(num_1, num_2)\n",
    "result_lcm = lcm(num_1, num_2)\n",
    "print(f\"这两个数的最大公约数是:{result_gcb}, 最小公倍数是:{result_lcm}\")"
   ]
  }
 ],
 "metadata": {
  "kernelspec": {
   "display_name": "Python 3 (ipykernel)",
   "language": "python",
   "name": "python3"
  },
  "language_info": {
   "codemirror_mode": {
    "name": "ipython",
    "version": 3
   },
   "file_extension": ".py",
   "mimetype": "text/x-python",
   "name": "python",
   "nbconvert_exporter": "python",
   "pygments_lexer": "ipython3",
   "version": "3.11.8"
  },
  "varInspector": {
   "cols": {
    "lenName": 16,
    "lenType": 16,
    "lenVar": 40
   },
   "kernels_config": {
    "python": {
     "delete_cmd_postfix": "",
     "delete_cmd_prefix": "del ",
     "library": "var_list.py",
     "varRefreshCmd": "print(var_dic_list())"
    },
    "r": {
     "delete_cmd_postfix": ") ",
     "delete_cmd_prefix": "rm(",
     "library": "var_list.r",
     "varRefreshCmd": "cat(var_dic_list()) "
    }
   },
   "types_to_exclude": [
    "module",
    "function",
    "builtin_function_or_method",
    "instance",
    "_Feature"
   ],
   "window_display": false
  }
 },
 "nbformat": 4,
 "nbformat_minor": 4
}
