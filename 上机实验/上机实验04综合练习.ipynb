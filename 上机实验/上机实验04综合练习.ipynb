{
 "cells": [
  {
   "cell_type": "markdown",
   "metadata": {},
   "source": [
    "## <font color=blue>上机实验04-综合练习"
   ]
  },
  {
   "cell_type": "markdown",
   "metadata": {},
   "source": [
    "1.一个乒乓球球从5米高度自由落体运动，每次落地后反弹再落下，求它在第n次落地时，共经过多少米？第n次反弹多高？   \n",
    "  \n",
    "注：自由落体的物体的反弹跟重力加速度和物体的反弹系数有关。请查阅物理知识，确定相关值，再进行计算。    \n",
    "本题综合考查数理知识的使用与使用程序解决复杂问题。    \n",
    "\n",
    "要求：   \n",
    "（1）函数实现，参数给定次数，返回值用元组给出两个结果（经过多少米和反弹多高），并在主函数中调用打印输出 ；   \n",
    "    （2）说明物理参数的选择和物理公式"
   ]
  },
  {
   "cell_type": "code",
   "execution_count": 9,
   "metadata": {},
   "outputs": [
    {
     "data": {
      "text/plain": [
       "(10.6, 0.32000000000000006)"
      ]
     },
     "execution_count": 9,
     "metadata": {},
     "output_type": "execute_result"
    }
   ],
   "source": [
    "rebound_var = 0.4\n",
    "\n",
    "initial_height = 5\n",
    "\n",
    "def calc(n):\n",
    "    global initial_height, rebound_var\n",
    "    current = initial_height\n",
    "    sum = initial_height\n",
    "    for _ in range(n - 1):  \n",
    "        current *= rebound_var\n",
    "        sum += current * 2\n",
    "    return (sum, current * rebound_var)\n",
    "calc(3)"
   ]
  },
  {
   "cell_type": "markdown",
   "metadata": {},
   "source": [
    "2.编写函数func(x, n)，接收一个所有元素值都不相等的整数列表x和一个整数n，要求将值为n的元素作为支点，将列表x中所有值小于n的元素全部放到n的前面，将列表x中所有值大于n的元素放到n的后面。   \n",
    "(1)尝试使用原生Python代码实现,直接改变原列表(参考示例代码）    \n",
    "(2)尝试使用原生Python代码实现,返回新的列表    \n",
    "(3)使用numpy数组实现   \n",
    "(4)比较三种方法的区别，写出心得体会。"
   ]
  },
  {
   "cell_type": "code",
   "execution_count": 7,
   "metadata": {},
   "outputs": [
    {
     "name": "stdout",
     "output_type": "stream",
     "text": [
      "None\n",
      "[6, 2, 7, 1, 8, 9, 10, 11, 15]\n"
     ]
    },
    {
     "data": {
      "text/plain": [
       "([1, 7, 2, 6, 8, 9, 10, 11, 15], [6, 2, 7, 1, 8, 9, 10, 11, 15])"
      ]
     },
     "execution_count": 7,
     "metadata": {},
     "output_type": "execute_result"
    }
   ],
   "source": [
    "def demo(x, n):\n",
    "    i = x.index(n)               #获取指定元素在列表中的索引\n",
    "    x[0], x[i] = x[i], x[0]      #将指定元素与第0个元素交换\n",
    "    key = x[0]\n",
    "    i = 0\n",
    "    j = len(x) - 1\n",
    "    while i<j:\n",
    "        while i<j and x[j]>=key: #从后向前寻找第一个比指定元素小的元素\n",
    "            j -= 1\n",
    "        x[i] = x[j] \n",
    "        while i<j and x[i]<=key: #从前向后寻找第一个比指定元素大的元素\n",
    "            i += 1\n",
    "        x[j] = x[i]\n",
    "    x[i] = key\n",
    "\n",
    "a=[1,2,10,9,8,7,6,11,15]\n",
    "print(demo(a,8))\n",
    "print(a)\n",
    "\n",
    "from collections import deque\n",
    "def func(x, n):\n",
    "    result = deque()\n",
    "    mid = 0\n",
    "    if n not in x:\n",
    "        return\n",
    "    else:\n",
    "        mid = n\n",
    "    result.appendleft(mid)\n",
    "    for elem in x:\n",
    "        if elem < mid:\n",
    "            result.appendleft(elem)\n",
    "        elif elem > mid:\n",
    "            result.append(elem)\n",
    "    return list(result)\n",
    "\n",
    "\n",
    "import numpy as np\n",
    "def func_np(x, n):\n",
    "    x_np = np.array(x)\n",
    "    if n not in x_np:\n",
    "        return\n",
    "    return [*x_np[x_np < n], n, *x_np[x_np > n]]\n",
    "func(a, 8), func_np(a, 8)\n"
   ]
  },
  {
   "cell_type": "code",
   "execution_count": null,
   "metadata": {},
   "outputs": [],
   "source": [
    "'''\n",
    "心得体会\n",
    "1. 对数组进行原地操作涉及到很多元素交换的问题，在这个过程中会占用一定的内存空间，并且由于是类似于快速排序的比较算法，因此是时间复杂度是O(nlogn)\n",
    "2. 对于形成新数组的实现方法，本身会存在数据拷贝并且会为新数组分配新的内存空间，会让时间和空间开销都增大，利用双端队列，可以让时间复杂度由双端队列的插入数据的操作决定。\n",
    "3. 对于numpy实现方法，由于numpy底层是使用的c++进行编写，因此在进行查找时都要快很多，并且np的布尔索引可以让代码更加简单。\n",
    "'''"
   ]
  },
  {
   "cell_type": "markdown",
   "metadata": {},
   "source": [
    "3.Python原生代码中是没有矩阵相乘的操作的。为了便于进行数值运算，某公司需要开发一个有关矩阵操作的第三方库。这里仅就矩阵相乘做出要求。要求设计一个函数matrix_mul(a,b),可以对a、b两个列表进行对应元素相乘。例如对于：   \n",
    "list1=[[1,2,3]，[4,5,6]]，   \n",
    "list2=[[11,22,33], [10,20,30]]，   \n",
    "调用t3=matrix_mul(list1,list2)得到相乘后的结果t3=[[11,44,99],[40,100,180]]。   \n",
    "\n",
    "（1）给出matrix_mul函数的定义，并解释参数和返回结果的意义。   \n",
    "（2）至少使用两种方法实现函数matrix_mul(a,b)的代码。提示：使用自定义循环、使用map函数，或使用其他方式实现函数，或者把函数包装在一个类中。   \n",
    "（3）比较这两种不同设计方法的优缺点，得出有效结论"
   ]
  },
  {
   "cell_type": "code",
   "execution_count": 13,
   "metadata": {},
   "outputs": [
    {
     "data": {
      "text/plain": [
       "[[11, 44, 99], [40, 100, 180]]"
      ]
     },
     "execution_count": 13,
     "metadata": {},
     "output_type": "execute_result"
    }
   ],
   "source": [
    "def matrix_mul(matrix_1, matrix_2):\n",
    "    mt_np_1 = np.array(matrix_1)\n",
    "    mt_np_2 = np.array(matrix_2)\n",
    "    shape = mt_np_1.shape\n",
    "    row, col = shape\n",
    "    if shape != mt_np_2.shape:\n",
    "        print(\"The shape of the two matrixs is not same\")\n",
    "    result = []\n",
    "    for i in range(row):\n",
    "        current = []\n",
    "        for j in range(col):\n",
    "            current.append(mt_np_1[i, j] * mt_np_2[i, j])\n",
    "        result.append(current)\n",
    "    return result\n",
    "list1= [[1,2,3], [4,5,6]]\n",
    "list2=[[11,22,33], [10,20,30]]\n",
    "matrix_mul(list1, list2)"
   ]
  },
  {
   "cell_type": "markdown",
   "metadata": {},
   "source": [
    " 4.有15个人坐在一起，问第五个人多少岁?他说比第4个人大2岁。问第4个人岁数，他说比第3个人大2岁。问第三个人，又说比第2人大两岁。问第2个人，说比\n",
    "第一个人大两岁。最后问第一个人，他说是10岁。请问第五个人多大?"
   ]
  },
  {
   "cell_type": "code",
   "execution_count": 19,
   "metadata": {},
   "outputs": [
    {
     "data": {
      "text/plain": [
       "18"
      ]
     },
     "execution_count": 19,
     "metadata": {},
     "output_type": "execute_result"
    }
   ],
   "source": [
    "age = 0\n",
    "def calc_age(n):\n",
    "    global age\n",
    "    if n == 0:\n",
    "        return\n",
    "    if n != 1:\n",
    "        age += 2\n",
    "        calc_age(n - 1)\n",
    "    elif n == 1:\n",
    "        age += 10\n",
    "calc_age(5)\n",
    "age"
   ]
  }
 ],
 "metadata": {
  "kernelspec": {
   "display_name": "Python 3 (ipykernel)",
   "language": "python",
   "name": "python3"
  },
  "language_info": {
   "codemirror_mode": {
    "name": "ipython",
    "version": 3
   },
   "file_extension": ".py",
   "mimetype": "text/x-python",
   "name": "python",
   "nbconvert_exporter": "python",
   "pygments_lexer": "ipython3",
   "version": "3.11.8"
  },
  "varInspector": {
   "cols": {
    "lenName": 16,
    "lenType": 16,
    "lenVar": 40
   },
   "kernels_config": {
    "python": {
     "delete_cmd_postfix": "",
     "delete_cmd_prefix": "del ",
     "library": "var_list.py",
     "varRefreshCmd": "print(var_dic_list())"
    },
    "r": {
     "delete_cmd_postfix": ") ",
     "delete_cmd_prefix": "rm(",
     "library": "var_list.r",
     "varRefreshCmd": "cat(var_dic_list()) "
    }
   },
   "types_to_exclude": [
    "module",
    "function",
    "builtin_function_or_method",
    "instance",
    "_Feature"
   ],
   "window_display": true
  }
 },
 "nbformat": 4,
 "nbformat_minor": 4
}
