{
 "cells": [
  {
   "cell_type": "markdown",
   "metadata": {},
   "source": [
    "## task04-选择与循环结构"
   ]
  },
  {
   "cell_type": "markdown",
   "metadata": {},
   "source": [
    "### 1. if语句实例：输入一个分数，给出五级记分制的成绩"
   ]
  },
  {
   "cell_type": "code",
   "execution_count": null,
   "metadata": {},
   "outputs": [],
   "source": []
  },
  {
   "cell_type": "markdown",
   "metadata": {},
   "source": [
    "### 2. if语句实例：输入一个分数，用一条if语句给出五级记分制的成绩"
   ]
  },
  {
   "cell_type": "code",
   "execution_count": null,
   "metadata": {},
   "outputs": [],
   "source": []
  },
  {
   "cell_type": "markdown",
   "metadata": {},
   "source": [
    "### 3. 分别使用while循环和for循环计算1到100的和"
   ]
  },
  {
   "cell_type": "code",
   "execution_count": null,
   "metadata": {},
   "outputs": [],
   "source": []
  },
  {
   "cell_type": "markdown",
   "metadata": {},
   "source": [
    "### 4. 打印九九乘法表"
   ]
  },
  {
   "cell_type": "code",
   "execution_count": null,
   "metadata": {},
   "outputs": [],
   "source": []
  },
  {
   "cell_type": "markdown",
   "metadata": {},
   "source": [
    "### 5.打印斐波那契数列 1 1 2 3 5 8 13....打印36项,每行打印6个"
   ]
  },
  {
   "cell_type": "code",
   "execution_count": null,
   "metadata": {},
   "outputs": [],
   "source": []
  },
  {
   "cell_type": "markdown",
   "metadata": {},
   "source": [
    "### 6.输入一行字符，分别统计出其中英文字母、空格、数字和其它字符的个数"
   ]
  },
  {
   "cell_type": "code",
   "execution_count": null,
   "metadata": {},
   "outputs": [],
   "source": []
  },
  {
   "cell_type": "markdown",
   "metadata": {},
   "source": [
    "### 7.一球从100米高度自由落下，每次落地后反跳回原高度的一半；再落下，求它在第10次落地时，共经过多少米？第10次反弹多高？"
   ]
  },
  {
   "cell_type": "code",
   "execution_count": null,
   "metadata": {},
   "outputs": [],
   "source": []
  },
  {
   "cell_type": "markdown",
   "metadata": {},
   "source": [
    "### 8.输入两个年份，输出这两个年份（含）之间的闰年"
   ]
  },
  {
   "cell_type": "code",
   "execution_count": null,
   "metadata": {},
   "outputs": [],
   "source": []
  },
  {
   "cell_type": "markdown",
   "metadata": {},
   "source": [
    "### 9.输入某年某月某日，判断这一天是这一年的第几天？"
   ]
  },
  {
   "cell_type": "code",
   "execution_count": null,
   "metadata": {},
   "outputs": [],
   "source": []
  },
  {
   "cell_type": "markdown",
   "metadata": {},
   "source": [
    "### 10.阶乘计算。输入n，计算1+2！+3！+……n！的结果"
   ]
  },
  {
   "cell_type": "code",
   "execution_count": null,
   "metadata": {},
   "outputs": [],
   "source": []
  },
  {
   "cell_type": "markdown",
   "metadata": {},
   "source": [
    "### 11.输入两个大于2的正整数，输出最大公约数和最小公倍数"
   ]
  },
  {
   "cell_type": "code",
   "execution_count": null,
   "metadata": {},
   "outputs": [],
   "source": []
  },
  {
   "cell_type": "markdown",
   "metadata": {},
   "source": [
    "### 12.输出某个正整数的所有序列：序列的每个元素相邻且和为该正整数。阅读下面的代码与课本上第88页的例题进行比较和理解。"
   ]
  },
  {
   "cell_type": "code",
   "execution_count": 70,
   "metadata": {},
   "outputs": [
    {
     "name": "stdout",
     "output_type": "stream",
     "text": [
      "18 19 20 21 22\n",
      "9 10 11 12 13 14 15 16\n",
      "已经没有满足条件的序列\n"
     ]
    }
   ],
   "source": [
    "import math\n",
    "x=100\n",
    "y=[]\n",
    "for i  in range(2,x//2):\n",
    "    a,b=math.modf(x/i)\n",
    "    if a and a-0.5:#如果a不等于0并且不等于0.5，肯定没有i个连续的整数和是x\n",
    "        continue\n",
    "    if a==0 and i%2==0:#如果a==0并且i被2整除，肯定没有i个连续的整数和是x\n",
    "        continue\n",
    "    if a==0:#如果x整除i，并且i不为偶数，则连续奇数个整数和为x，找出start 和 end\n",
    "        start=x//i-i//2\n",
    "        end=start+i+1\n",
    "    elif a==0.5:#如果x除i是0.5，则连续偶数个整数和为x，找出start 和 end\n",
    "        start=x//i-i//2+1\n",
    "        end=start+i\n",
    "    if start<=0:#排除start不符合要求的情况\n",
    "        continue\n",
    "    y.append(range(start,start+i))\n",
    "for i  in y:\n",
    "    print(*i)\n",
    "else:\n",
    "    print(\"已经没有满足条件的序列\")"
   ]
  },
  {
   "cell_type": "code",
   "execution_count": 71,
   "metadata": {},
   "outputs": [
    {
     "name": "stdout",
     "output_type": "stream",
     "text": [
      "18 19 20 21 22\n",
      "9 10 11 12 13 14 15 16\n",
      "已经没有满足条件的序列\n",
      "Wall time: 998 µs\n"
     ]
    }
   ],
   "source": [
    "import math\n",
    "def f():\n",
    "    x=100\n",
    "    y=[]\n",
    "    for i  in range(2,x//2):\n",
    "        a,b=math.modf(x/i)\n",
    "        if a and a-0.5:#如果a不等于0并且不等于0.5，肯定没有i个连续的整数和是x\n",
    "            continue\n",
    "        if a==0 and i%2==0:#如果a==0并且i被2整除，肯定没有i个连续的整数和是x\n",
    "            continue\n",
    "        if a==0:#如果x整除i，并且i不为偶数，则连续奇数个整数和为x，找出start 和 end\n",
    "            start=x//i-i//2\n",
    "            end=start+i+1\n",
    "        elif a==0.5:#如果x除i是0.5，则连续偶数个整数和为x，找出start 和 end\n",
    "            start=x//i-i//2+1\n",
    "            end=start+i\n",
    "        if start<=0:#排除start不符合要求的情况\n",
    "            continue\n",
    "        y.append(range(start,start+i))\n",
    "    for i  in y:\n",
    "        print(*i)\n",
    "    else:\n",
    "        print(\"已经没有满足条件的序列\")\n",
    "\n",
    "%time f()"
   ]
  }
 ],
 "metadata": {
  "kernelspec": {
   "display_name": "Python 3",
   "language": "python",
   "name": "python3"
  },
  "language_info": {
   "codemirror_mode": {
    "name": "ipython",
    "version": 3
   },
   "file_extension": ".py",
   "mimetype": "text/x-python",
   "name": "python",
   "nbconvert_exporter": "python",
   "pygments_lexer": "ipython3",
   "version": "3.7.2"
  },
  "varInspector": {
   "cols": {
    "lenName": 16,
    "lenType": 16,
    "lenVar": 40
   },
   "kernels_config": {
    "python": {
     "delete_cmd_postfix": "",
     "delete_cmd_prefix": "del ",
     "library": "var_list.py",
     "varRefreshCmd": "print(var_dic_list())"
    },
    "r": {
     "delete_cmd_postfix": ") ",
     "delete_cmd_prefix": "rm(",
     "library": "var_list.r",
     "varRefreshCmd": "cat(var_dic_list()) "
    }
   },
   "types_to_exclude": [
    "module",
    "function",
    "builtin_function_or_method",
    "instance",
    "_Feature"
   ],
   "window_display": false
  }
 },
 "nbformat": 4,
 "nbformat_minor": 4
}
