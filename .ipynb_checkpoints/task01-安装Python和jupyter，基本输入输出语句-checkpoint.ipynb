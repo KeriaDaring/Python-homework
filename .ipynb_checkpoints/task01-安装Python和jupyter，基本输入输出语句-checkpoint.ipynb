{
 "cells": [
  {
   "cell_type": "markdown",
   "metadata": {},
   "source": [
    "### task01-安装Python和jupyter，完成helloword和基本输入输出语句"
   ]
  },
  {
   "cell_type": "markdown",
   "metadata": {},
   "source": [
    "一：写出Python的安装和配置过程"
   ]
  },
  {
   "cell_type": "markdown",
   "metadata": {},
   "source": [
    "# 1. 通过python程序安装包安装\n",
    "    - 在安装包执行完毕后，通过选项添加环境变量\n",
    "    - 也可以通过在环境变量中添加 xx\\xxx\\xxx\\python312\\python.exe 进行安装"
   ]
  },
  {
   "cell_type": "markdown",
   "metadata": {},
   "source": [
    "二：写出jupyter包的安装和使用过程"
   ]
  },
  {
   "cell_type": "markdown",
   "metadata": {},
   "source": [
    "1. 在将python添加进入环境变量之后，打开终端\n",
    "2. 输入 pip install jupyter\n",
    "3. 输入 jupyter notebook 进入jupyter notebook网页端"
   ]
  },
  {
   "cell_type": "markdown",
   "metadata": {},
   "source": [
    "三：写出第一个hello world程序"
   ]
  },
  {
   "cell_type": "code",
   "execution_count": 1,
   "metadata": {},
   "outputs": [
    {
     "name": "stdout",
     "output_type": "stream",
     "text": [
      "hello, world\n"
     ]
    }
   ],
   "source": [
    "print(\"hello, world\")"
   ]
  },
  {
   "cell_type": "markdown",
   "metadata": {},
   "source": [
    "四：写出print函数的帮助信息"
   ]
  },
  {
   "cell_type": "code",
   "execution_count": 2,
   "metadata": {},
   "outputs": [
    {
     "name": "stdout",
     "output_type": "stream",
     "text": [
      "Help on built-in function print in module builtins:\n",
      "\n",
      "print(*args, sep=' ', end='\\n', file=None, flush=False)\n",
      "    Prints the values to a stream, or to sys.stdout by default.\n",
      "    \n",
      "    sep\n",
      "      string inserted between values, default a space.\n",
      "    end\n",
      "      string appended after the last value, default a newline.\n",
      "    file\n",
      "      a file-like object (stream); defaults to the current sys.stdout.\n",
      "    flush\n",
      "      whether to forcibly flush the stream.\n",
      "\n"
     ]
    }
   ],
   "source": [
    "help(print)"
   ]
  },
  {
   "cell_type": "markdown",
   "metadata": {},
   "source": [
    "五：写出具有几个简单变量赋值并进行运算的程序，并进行多种形式的格式化输出"
   ]
  },
  {
   "cell_type": "code",
   "execution_count": 19,
   "metadata": {},
   "outputs": [
    {
     "name": "stdout",
     "output_type": "stream",
     "text": [
      "################没有格式控制##############\n",
      "a: 1 b: nihao c: 3.241 d: {'name': '小明', 'age': 18, 'sex': 'male'} e: (3, 'python') f: ('python', 'java')\n",
      "################百分号##############\n",
      "a:1, b:nihao, c:3.241000, d:{'name': '小明', 'age': 18, 'sex': 'male'}, e:(3, 'python'), f:('python', 'java')\n",
      "################ Format 输出##############\n",
      "a:1, b:nihao, c:3.241, d:{'name': '小明', 'age': 18, 'sex': 'male'}, e:(3, 'python'), f:('python', 'java')\n",
      "################ f 前缀修饰 ##############\n",
      "a:1, b:nihao, c:3.241, d:{'name': '小明', 'age': 18, 'sex': 'male'}, e:(3, 'python'), f:('python', 'java')\n"
     ]
    }
   ],
   "source": [
    "a = 1\n",
    "b = 'nihao'\n",
    "c = 3.241\n",
    "d = {'name': '小明', 'age': 18, 'sex': 'male'}\n",
    "e = (3, 'python')\n",
    "f = ('python', 'java')\n",
    "\n",
    "print(\"################没有格式控制##############\")\n",
    "\n",
    "print('a:', a, 'b:', b, 'c:', c, 'd:', d, 'e:', e, 'f:', f)\n",
    "\n",
    "print(\"################百分号##############\")\n",
    "\n",
    "print('a:%d, b:%s, c:%f, d:%s, e:%s, f:%s'%(a,b,c,d,e,f))\n",
    "\n",
    "print(\"################ Format 输出##############\")\n",
    "\n",
    "print('a:{0}, b:{1}, c:{2}, d:{3}, e:{4}, f:{5}'.format(a,b,c,d,e,f))\n",
    "\n",
    "print(\"################ f 前缀修饰 ##############\")\n",
    "\n",
    "print(f'a:{a}, b:{b}, c:{c}, d:{d}, e:{e}, f:{f}')"
   ]
  }
 ],
 "metadata": {
  "kernelspec": {
   "display_name": "Python 3 (ipykernel)",
   "language": "python",
   "name": "python3"
  },
  "language_info": {
   "codemirror_mode": {
    "name": "ipython",
    "version": 3
   },
   "file_extension": ".py",
   "mimetype": "text/x-python",
   "name": "python",
   "nbconvert_exporter": "python",
   "pygments_lexer": "ipython3",
   "version": "3.11.5"
  },
  "toc": {
   "base_numbering": 1,
   "nav_menu": {},
   "number_sections": true,
   "sideBar": true,
   "skip_h1_title": false,
   "title_cell": "Table of Contents",
   "title_sidebar": "Contents",
   "toc_cell": false,
   "toc_position": {},
   "toc_section_display": true,
   "toc_window_display": false
  },
  "varInspector": {
   "cols": {
    "lenName": 16,
    "lenType": 16,
    "lenVar": 40
   },
   "kernels_config": {
    "python": {
     "delete_cmd_postfix": "",
     "delete_cmd_prefix": "del ",
     "library": "var_list.py",
     "varRefreshCmd": "print(var_dic_list())"
    },
    "r": {
     "delete_cmd_postfix": ") ",
     "delete_cmd_prefix": "rm(",
     "library": "var_list.r",
     "varRefreshCmd": "cat(var_dic_list()) "
    }
   },
   "types_to_exclude": [
    "module",
    "function",
    "builtin_function_or_method",
    "instance",
    "_Feature"
   ],
   "window_display": true
  }
 },
 "nbformat": 4,
 "nbformat_minor": 4
}
