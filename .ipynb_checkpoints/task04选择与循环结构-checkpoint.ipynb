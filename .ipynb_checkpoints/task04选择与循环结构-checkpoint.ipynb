{
 "cells": [
  {
   "cell_type": "markdown",
   "metadata": {},
   "source": [
    "## task04-选择与循环结构"
   ]
  },
  {
   "cell_type": "markdown",
   "metadata": {},
   "source": [
    "### 1. if语句实例：输入一个分数，给出五级记分制的成绩"
   ]
  },
  {
   "cell_type": "code",
   "execution_count": 3,
   "metadata": {},
   "outputs": [
    {
     "name": "stdin",
     "output_type": "stream",
     "text": [
      "请你输入一个分数:  20\n"
     ]
    },
    {
     "name": "stdout",
     "output_type": "stream",
     "text": [
      "您输入的分数对应的等级: E\n"
     ]
    }
   ],
   "source": [
    "float_num = float(input(\"请你输入一个分数: \"))\n",
    "result = \"\"\n",
    "if float_num > 100 or float_num < 0:\n",
    "    print(\"Illegal input, please try again.\")\n",
    "elif float_num >= 90:\n",
    "    result = \"A\"\n",
    "elif float_num >= 80:\n",
    "    result = \"B\"\n",
    "elif float_num >= 70:\n",
    "    result = \"C\"\n",
    "elif float_num >= 60:\n",
    "    result = \"D\"\n",
    "else: \n",
    "    result = \"E\"\n",
    "print(\"您输入的分数对应的等级:\", result)"
   ]
  },
  {
   "cell_type": "markdown",
   "metadata": {},
   "source": [
    "### 2. if语句实例：输入一个分数，用一条if语句给出五级记分制的成绩"
   ]
  },
  {
   "cell_type": "code",
   "execution_count": 14,
   "metadata": {},
   "outputs": [
    {
     "name": "stdin",
     "output_type": "stream",
     "text": [
      "请你输入一个分数:  20\n"
     ]
    },
    {
     "name": "stdout",
     "output_type": "stream",
     "text": [
      "您输入的分数对应的等级: E\n"
     ]
    }
   ],
   "source": [
    "float_input_num = float(input(\"请你输入一个分数: \"))\n",
    "result = [\"D\",\"C\",\"B\",\"A\"]\n",
    "if float_input_num < 60:\n",
    "    print(\"您输入的分数对应的等级: E\")\n",
    "else:\n",
    "    index = int((float_input_num - 60) / 10)\n",
    "    print(\"您输入的分数对应的等级:\", result[index])"
   ]
  },
  {
   "cell_type": "markdown",
   "metadata": {},
   "source": [
    "### 3. 分别使用while循环和for循环计算1到100的和"
   ]
  },
  {
   "cell_type": "code",
   "execution_count": 27,
   "metadata": {},
   "outputs": [
    {
     "name": "stdout",
     "output_type": "stream",
     "text": [
      "5050\n",
      "________First loop done!__________\n",
      "5050\n",
      "________Second loop done!__________\n"
     ]
    }
   ],
   "source": [
    "count = 1\n",
    "sum_1 = 0\n",
    "while count <= 100:\n",
    "    sum_1 += count\n",
    "    count += 1\n",
    "print(sum_1)\n",
    "\n",
    "print(\"________First loop done!__________\")\n",
    "\n",
    "sum_2 = 0\n",
    "for i in range(1, 101):\n",
    "    sum_2 += i\n",
    "print(sum_2)\n",
    "print(\"________Second loop done!__________\")"
   ]
  },
  {
   "cell_type": "markdown",
   "metadata": {},
   "source": [
    "### 4. 打印九九乘法表"
   ]
  },
  {
   "cell_type": "code",
   "execution_count": 25,
   "metadata": {},
   "outputs": [
    {
     "name": "stdout",
     "output_type": "stream",
     "text": [
      "1*1=1 \n",
      "2*1=2 2*2=4 \n",
      "3*1=3 3*2=6 3*3=9 \n",
      "4*1=4 4*2=8 4*3=12 4*4=16 \n",
      "5*1=5 5*2=10 5*3=15 5*4=20 5*5=25 \n",
      "6*1=6 6*2=12 6*3=18 6*4=24 6*5=30 6*6=36 \n",
      "7*1=7 7*2=14 7*3=21 7*4=28 7*5=35 7*6=42 7*7=49 \n",
      "8*1=8 8*2=16 8*3=24 8*4=32 8*5=40 8*6=48 8*7=56 8*8=64 \n",
      "9*1=9 9*2=18 9*3=27 9*4=36 9*5=45 9*6=54 9*7=63 9*8=72 9*9=81 \n"
     ]
    }
   ],
   "source": [
    "for i in range(1, 10):\n",
    "    for j in range(1,i + 1):\n",
    "        print(f\"{i}*{j}={i * j}\", end=' ')\n",
    "    print()"
   ]
  },
  {
   "cell_type": "markdown",
   "metadata": {},
   "source": [
    "### 5.打印斐波那契数列 1 1 2 3 5 8 13....打印36项,每行打印6个"
   ]
  },
  {
   "cell_type": "code",
   "execution_count": 35,
   "metadata": {},
   "outputs": [
    {
     "name": "stdout",
     "output_type": "stream",
     "text": [
      "1 2 4 8 16 32 \n",
      "64 128 256 512 1024 2048 \n",
      "4096 8192 16384 32768 65536 131072 \n",
      "262144 524288 1048576 2097152 4194304 8388608 \n",
      "16777216 33554432 67108864 134217728 268435456 536870912 \n",
      "1073741824 2147483648 4294967296 8589934592 17179869184 34359738368 \n"
     ]
    }
   ],
   "source": [
    "base_num = 1\n",
    "for i in range(0, 6):\n",
    "    for i in range(0, 6):\n",
    "        print(base_num, end=' ')\n",
    "        base_num += base_num\n",
    "    print()"
   ]
  },
  {
   "cell_type": "markdown",
   "metadata": {},
   "source": [
    "### 6.输入一行字符，分别统计出其中英文字母、空格、数字和其它字符的个数"
   ]
  },
  {
   "cell_type": "code",
   "execution_count": 61,
   "metadata": {},
   "outputs": [
    {
     "name": "stdin",
     "output_type": "stream",
     "text": [
      "请随意输入一行字符 Hello, nihao 21234\n"
     ]
    },
    {
     "name": "stdout",
     "output_type": "stream",
     "text": [
      "{'letters': 10, 'spaces': 2, 'digits': 5, 'others': 1}\n"
     ]
    }
   ],
   "source": [
    "input_str = input(\"请随意输入一行字符\")\n",
    "\n",
    "def count_characters(input_str):\n",
    "    # 初始化计数器\n",
    "    counts = {\n",
    "        \"letters\": 0,\n",
    "        \"spaces\": 0,\n",
    "        \"digits\": 0,\n",
    "        \"others\": 0\n",
    "    }\n",
    "    \n",
    "    # 遍历字符串中的每个字符，进行分类计数\n",
    "    for char in input_str:\n",
    "        if char.isalpha():  # 判断是否为英文字母\n",
    "            counts[\"letters\"] += 1\n",
    "        elif char.isspace():  # 判断是否为空格\n",
    "            counts[\"spaces\"] += 1\n",
    "        elif char.isdigit():  # 判断是否为数字\n",
    "            counts[\"digits\"] += 1\n",
    "        else:  # 其他字符\n",
    "            counts[\"others\"] += 1\n",
    "    \n",
    "    return counts\n",
    "\n",
    "print(count_characters(input_str))"
   ]
  },
  {
   "cell_type": "markdown",
   "metadata": {},
   "source": [
    "### 7.一球从100米高度自由落下，每次落地后反跳回原高度的一半；再落下，求它在第10次落地时，共经过多少米？第10次反弹多高？"
   ]
  },
  {
   "cell_type": "code",
   "execution_count": 1,
   "metadata": {},
   "outputs": [
    {
     "name": "stdout",
     "output_type": "stream",
     "text": [
      "一共经过299.8046875米，第10次反弹0.09765625米\n"
     ]
    }
   ],
   "source": [
    "distance = 100\n",
    "initial_heigth = 100\n",
    "for i in range(1,11):\n",
    "    distance += initial_heigth\n",
    "    initial_heigth /= 2\n",
    "print(f\"一共经过{distance}米，第10次反弹{initial_heigth}米\")"
   ]
  },
  {
   "cell_type": "markdown",
   "metadata": {},
   "source": [
    "### 8.输入两个年份，输出这两个年份（含）之间的闰年"
   ]
  },
  {
   "cell_type": "code",
   "execution_count": 60,
   "metadata": {},
   "outputs": [
    {
     "name": "stdin",
     "output_type": "stream",
     "text": [
      "请输入两个年份以空格进行分隔 2013 2044\n"
     ]
    },
    {
     "name": "stdout",
     "output_type": "stream",
     "text": [
      "2013年和2044年之间的闰年有这些:\n",
      "[2016, 2020, 2024, 2028, 2032, 2036, 2040, 2044]\n"
     ]
    }
   ],
   "source": [
    "year_1, year_2 = input(\"请输入两个年份以空格进行分隔\").split(\" \")\n",
    "\n",
    "def find_leap_years(start_year, end_year):\n",
    "    # 存储找到的闰年\n",
    "    leap_years = []\n",
    "    # 遍历指定范围内的每个年份\n",
    "    for year in range(start_year, end_year + 1):\n",
    "        # 判断是否为闰年\n",
    "        if (year % 4 == 0 and year % 100 != 0) or (year % 400 == 0):\n",
    "            leap_years.append(year)\n",
    "    return leap_years\n",
    "print(f\"{year_1}年和{year_2}年之间的闰年有这些:\")\n",
    "print(find_leap_years(int(year_1), int(year_2)))"
   ]
  },
  {
   "cell_type": "markdown",
   "metadata": {},
   "source": [
    "### 9.输入某年某月某日，判断这一天是这一年的第几天？"
   ]
  },
  {
   "cell_type": "code",
   "execution_count": 54,
   "metadata": {},
   "outputs": [
    {
     "name": "stdin",
     "output_type": "stream",
     "text": [
      "请你输入某年某月某日(e.g: 2024年3月15日)  2024年3月15日\n"
     ]
    },
    {
     "name": "stdout",
     "output_type": "stream",
     "text": [
      "这一天是今年的第75天\n"
     ]
    }
   ],
   "source": [
    "from datetime import datetime\n",
    "import re\n",
    "\n",
    "def day_of_year(year, month, day):\n",
    "    date = datetime(int(year), int(month), (day))\n",
    "    start_of_year = datetime(year, 1, 1)\n",
    "    delta = date - start_of_year\n",
    "    return delta.days + 1\n",
    "    \n",
    "def is_valid_date(year, month, day):\n",
    "    try:\n",
    "        datetime(year, month, day)\n",
    "        return True\n",
    "    except ValueError:\n",
    "        return False\n",
    "\n",
    "input_str = input(\"请你输入某年某月某日(e.g: 2024年3月15日)\")\n",
    "data_list = re.split(r'[\\u4e00-\\u9fa5]', input_str)\n",
    "data_list.pop()\n",
    "year, month, day = data_list\n",
    "\n",
    "if (is_valid_date(int(year), int(month), int(day))):\n",
    "    print(f\"这一天是今年的第{day_of_year(int(year), int(month), int(day))}天\")\n",
    "else:\n",
    "    print(\"非法输入，请重试\")\n",
    "\n",
    "# year, month, day\n",
    "\n"
   ]
  },
  {
   "cell_type": "markdown",
   "metadata": {},
   "source": [
    "### 10.阶乘计算。输入n，计算1+2！+3！+……n！的结果"
   ]
  },
  {
   "cell_type": "code",
   "execution_count": 23,
   "metadata": {},
   "outputs": [
    {
     "name": "stdin",
     "output_type": "stream",
     "text": [
      "请你输入一个整数 4\n"
     ]
    },
    {
     "name": "stdout",
     "output_type": "stream",
     "text": [
      "结果是:  33\n"
     ]
    }
   ],
   "source": [
    "import math\n",
    "sum = 0\n",
    "n = int(input(\"请你输入一个整数\"))\n",
    "for i in range(1, n+1):\n",
    "    sum += math.factorial(i)\n",
    "print(\"结果是: \", sum)"
   ]
  },
  {
   "cell_type": "markdown",
   "metadata": {},
   "source": [
    "### 11.输入两个大于2的正整数，输出最大公约数和最小公倍数"
   ]
  },
  {
   "cell_type": "code",
   "execution_count": 27,
   "metadata": {},
   "outputs": [
    {
     "name": "stdin",
     "output_type": "stream",
     "text": [
      "请输入两个大于2的正整数，使用空格进行分隔 2 3\n"
     ]
    },
    {
     "name": "stdout",
     "output_type": "stream",
     "text": [
      "这两个数的最大公约数是:1, 最小公倍数是:6\n"
     ]
    }
   ],
   "source": [
    "def gcd(num_1, num_2):\n",
    "    if(num_2 == 0):\n",
    "    \treturn num_1\n",
    "    else:\n",
    "    \ttemp = num_2\n",
    "    \tnum_2 = num_1 % num_2\n",
    "    \tnum_1 = temp\n",
    "    \treturn gcd(num_1, num_2)\n",
    "        \n",
    "def lcm(num_1, num_2):\n",
    "    return int(num_1 * (num_2 / gcd(num_1, num_2)))\n",
    "\n",
    "num_1, num_2 = input(\"请输入两个大于2的正整数，使用空格进行分隔\").split(\" \")\n",
    "\n",
    "num_1 = int(num_1)\n",
    "num_2 = int(num_2)\n",
    "result_gcb = gcd(num_1, num_2)\n",
    "result_lcm = lcm(num_1, num_2)\n",
    "print(f\"这两个数的最大公约数是:{result_gcb}, 最小公倍数是:{result_lcm}\")"
   ]
  },
  {
   "cell_type": "markdown",
   "metadata": {},
   "source": [
    "### 12.输出某个正整数的所有序列：序列的每个元素相邻且和为该正整数。阅读下面的代码与课本上第88页的例题进行比较和理解。"
   ]
  },
  {
   "cell_type": "code",
   "execution_count": 4,
   "metadata": {},
   "outputs": [
    {
     "name": "stdout",
     "output_type": "stream",
     "text": [
      "整数部分0.0, 小数部分50.0\n",
      "整数部分0.3333333333333357, 小数部分33.0\n",
      "整数部分0.0, 小数部分25.0\n",
      "整数部分0.0, 小数部分20.0\n",
      "整数部分0.6666666666666679, 小数部分16.0\n",
      "整数部分0.2857142857142865, 小数部分14.0\n",
      "整数部分0.5, 小数部分12.0\n",
      "整数部分0.11111111111111072, 小数部分11.0\n",
      "整数部分0.0, 小数部分10.0\n",
      "整数部分0.09090909090909172, 小数部分9.0\n",
      "整数部分0.3333333333333339, 小数部分8.0\n",
      "整数部分0.6923076923076925, 小数部分7.0\n",
      "整数部分0.14285714285714324, 小数部分7.0\n",
      "整数部分0.666666666666667, 小数部分6.0\n",
      "整数部分0.25, 小数部分6.0\n",
      "整数部分0.882352941176471, 小数部分5.0\n",
      "整数部分0.5555555555555554, 小数部分5.0\n",
      "整数部分0.2631578947368425, 小数部分5.0\n",
      "整数部分0.0, 小数部分5.0\n",
      "整数部分0.7619047619047619, 小数部分4.0\n",
      "整数部分0.5454545454545459, 小数部分4.0\n",
      "整数部分0.3478260869565215, 小数部分4.0\n",
      "整数部分0.16666666666666696, 小数部分4.0\n",
      "整数部分0.0, 小数部分4.0\n",
      "整数部分0.8461538461538463, 小数部分3.0\n",
      "整数部分0.7037037037037037, 小数部分3.0\n",
      "整数部分0.5714285714285716, 小数部分3.0\n",
      "整数部分0.4482758620689653, 小数部分3.0\n",
      "整数部分0.3333333333333335, 小数部分3.0\n",
      "整数部分0.22580645161290303, 小数部分3.0\n",
      "整数部分0.125, 小数部分3.0\n",
      "整数部分0.030303030303030276, 小数部分3.0\n",
      "整数部分0.9411764705882355, 小数部分2.0\n",
      "整数部分0.8571428571428572, 小数部分2.0\n",
      "整数部分0.7777777777777777, 小数部分2.0\n",
      "整数部分0.7027027027027026, 小数部分2.0\n",
      "整数部分0.6315789473684212, 小数部分2.0\n",
      "整数部分0.5641025641025643, 小数部分2.0\n",
      "整数部分0.5, 小数部分2.0\n",
      "整数部分0.4390243902439024, 小数部分2.0\n",
      "整数部分0.38095238095238093, 小数部分2.0\n",
      "整数部分0.32558139534883734, 小数部分2.0\n",
      "整数部分0.27272727272727293, 小数部分2.0\n",
      "整数部分0.22222222222222232, 小数部分2.0\n",
      "整数部分0.17391304347826075, 小数部分2.0\n",
      "整数部分0.12765957446808507, 小数部分2.0\n",
      "整数部分0.08333333333333348, 小数部分2.0\n",
      "整数部分0.04081632653061229, 小数部分2.0\n",
      "18 19 20 21 22\n",
      "9 10 11 12 13 14 15 16\n",
      "已经没有满足条件的序列\n"
     ]
    }
   ],
   "source": [
    "import math\n",
    "x=100\n",
    "y=[]\n",
    "for i  in range(2,x//2):\n",
    "    a,b=math.modf(x/i)\n",
    "    print(f\"小数部分{a}, 整数部分{b}\")\n",
    "    if a and a-0.5:#如果a不等于0并且不等于0.5，肯定没有i个连续的整数和是x\n",
    "        continue\n",
    "    if a==0 and i%2==0:#如果a==0并且i被2整除，肯定没有i个连续的整数和是x\n",
    "        continue\n",
    "    if a==0:#如果x整除i，并且i不为偶数，则连续奇数个整数和为x，找出start 和 end\n",
    "        start=x//i-i//2\n",
    "        end=start+i+1\n",
    "    elif a==0.5:#如果x除i是0.5，则连续偶数个整数和为x，找出start 和 end\n",
    "        start=x//i-i//2+1\n",
    "        end=start+i\n",
    "    if start<=0:#排除start不符合要求的情况\n",
    "        continue\n",
    "    y.append(range(start,start+i))\n",
    "for i  in y:\n",
    "    print(*i)\n",
    "else:\n",
    "    print(\"已经没有满足条件的序列\")"
   ]
  },
  {
   "cell_type": "code",
   "execution_count": 2,
   "metadata": {},
   "outputs": [
    {
     "name": "stdout",
     "output_type": "stream",
     "text": [
      "18 19 20 21 22\n",
      "9 10 11 12 13 14 15 16\n",
      "已经没有满足条件的序列\n",
      "CPU times: user 161 µs, sys: 30 µs, total: 191 µs\n",
      "Wall time: 198 µs\n"
     ]
    }
   ],
   "source": [
    "import math\n",
    "def f():\n",
    "    x=100\n",
    "    y=[]\n",
    "    for i  in range(2,x//2):\n",
    "        a,b=math.modf(x/i)\n",
    "        if a and a-0.5:#如果a不等于0并且不等于0.5，肯定没有i个连续的整数和是x\n",
    "            continue\n",
    "        if a==0 and i%2==0:#如果a==0并且i被2整除，肯定没有i个连续的整数和是x\n",
    "            continue\n",
    "        if a==0:#如果x整除i，并且i不为偶数，则连续奇数个整数和为x，找出start 和 end\n",
    "            start=x//i-i//2\n",
    "            end=start+i+1\n",
    "        elif a==0.5:#如果x除i是0.5，则连续偶数个整数和为x，找出start 和 end\n",
    "            start=x//i-i//2+1\n",
    "            end=start+i\n",
    "        if start<=0:#排除start不符合要求的情况\n",
    "            continue\n",
    "        y.append(range(start,start+i))\n",
    "    for i  in y:\n",
    "        print(*i)\n",
    "    else:\n",
    "        print(\"已经没有满足条件的序列\")\n",
    "\n",
    "%time f()"
   ]
  }
 ],
 "metadata": {
  "kernelspec": {
   "display_name": "Python 3 (ipykernel)",
   "language": "python",
   "name": "python3"
  },
  "language_info": {
   "codemirror_mode": {
    "name": "ipython",
    "version": 3
   },
   "file_extension": ".py",
   "mimetype": "text/x-python",
   "name": "python",
   "nbconvert_exporter": "python",
   "pygments_lexer": "ipython3",
   "version": "3.11.5"
  },
  "varInspector": {
   "cols": {
    "lenName": 16,
    "lenType": 16,
    "lenVar": 40
   },
   "kernels_config": {
    "python": {
     "delete_cmd_postfix": "",
     "delete_cmd_prefix": "del ",
     "library": "var_list.py",
     "varRefreshCmd": "print(var_dic_list())"
    },
    "r": {
     "delete_cmd_postfix": ") ",
     "delete_cmd_prefix": "rm(",
     "library": "var_list.r",
     "varRefreshCmd": "cat(var_dic_list()) "
    }
   },
   "types_to_exclude": [
    "module",
    "function",
    "builtin_function_or_method",
    "instance",
    "_Feature"
   ],
   "window_display": false
  }
 },
 "nbformat": 4,
 "nbformat_minor": 4
}
