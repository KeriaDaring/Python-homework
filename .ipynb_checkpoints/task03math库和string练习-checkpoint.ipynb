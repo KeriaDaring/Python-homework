{
 "cells": [
  {
   "cell_type": "markdown",
   "metadata": {},
   "source": [
    "# 1.字符串函数练习"
   ]
  },
  {
   "cell_type": "code",
   "execution_count": 16,
   "metadata": {},
   "outputs": [
    {
     "name": "stdout",
     "output_type": "stream",
     "text": [
      "aleX\n",
      "False\n",
      "False\n",
      " apeX \n",
      "[' a', 'eX ']\n",
      " ALEX \n",
      " alex \n",
      "a\n",
      " al\n",
      "X \n",
      "3\n",
      "ale\n"
     ]
    }
   ],
   "source": [
    "name = ' aleX '  #字符串前后各有一个空格。\n",
    "\n",
    "# 1) 移除 name 变量对应的值两边的空格,并输出结果\n",
    "#以下操作在1）操作获得的字符串的基础上进行\n",
    "print(name.strip())\n",
    "# 2) 判断 name 变量对应的值是否以 \"al\" 开头,并输出结果\n",
    "print(name.startswith('al'))\n",
    "# 3) 判断 name 变量对应的值是否以 \"X\" 结尾,并输出结果\n",
    "print(name.endswith('X'))\n",
    "# 4) 将 name 变量对应的值中的 “l” 替换为 “p”,并输出结果\n",
    "print(name.replace('l', 'p'))\n",
    "# 5) 将 name 变量对应的值根据 “l” 分割,并输出结果。\n",
    "print(name.split('l'))\n",
    "# 6) 将 name 变量对应的值变大写,并输出结果\n",
    "print(name.upper())\n",
    "# 7) 将 name 变量对应的值变小写,并输出结果\n",
    "print(name.lower())\n",
    "# 8) 请输出 name 变量对应的值的第 2 个字符?\n",
    "print(name[1:2])\n",
    "# 9) 请输出 name 变量对应的值的前 3 个字符?\n",
    "print(name[0:3])\n",
    "# 10) 请输出 name 变量对应的值的后 2 个字符?\n",
    "print(name[-2:])\n",
    "# 11) 请输出 name 变量对应的值中 “e” 所在索引位置?\n",
    "print(name.find('e'))\n",
    "# 12) 获取子序列,去掉最后一个字符。如: oldboy 则获取 oldbo。\n",
    "print(name.strip().strip(name.strip()[-1:]))"
   ]
  },
  {
   "cell_type": "code",
   "execution_count": 17,
   "metadata": {},
   "outputs": [
    {
     "name": "stdout",
     "output_type": "stream",
     "text": [
      "abcdefghijklmnopqrstuvwxyz\n",
      "ABCDEFGHIJKLMNOPQRSTUVWXYZ\n",
      "0123456789\n",
      "0123456789abcdefABCDEF\n"
     ]
    }
   ],
   "source": [
    "# 使用字符串常量输出小写字母 'abcdefghijklmnopqrstuvwxyz'。\n",
    "print(\"abcdefghijklmnopqrstuvwxyz\")\n",
    "# 使用字符串常量输出大写字母： 'ABCDEFGHIJKLMNOPQRSTUVWXYZ'。 \n",
    "print(\"ABCDEFGHIJKLMNOPQRSTUVWXYZ\")\n",
    "# 使用字符串常量输出字符串 '0123456789'。\n",
    "print(\"0123456789\")\n",
    "# 使用字符串常量输出字符串 '0123456789abcdefABCDEF'。\n",
    "print(\"0123456789abcdefABCDEF\")"
   ]
  },
  {
   "cell_type": "markdown",
   "metadata": {},
   "source": [
    "# 2.字符串切片练习"
   ]
  },
  {
   "cell_type": "code",
   "execution_count": 56,
   "metadata": {},
   "outputs": [
    {
     "name": "stdout",
     "output_type": "stream",
     "text": [
      "########### The format of the '147' output are here. ##############\n",
      "147\n",
      "147\n",
      "147\n",
      "147\n",
      "--------------------------------------\n",
      "########### The format of the '0246' output are here. ##############\n",
      "0246\n",
      "0246\n",
      "0246\n",
      "0246\n",
      "--------------------------------------\n",
      "########### The format of the '8642' output are here. ##############\n",
      "8642\n",
      "8642\n",
      "86420\n",
      "--------------------------------------\n",
      "########### The format of the '02468' output are here. ##############\n",
      "02468\n",
      "--------------------------------------\n"
     ]
    }
   ],
   "source": [
    "s='0123456789'\n",
    "# 写出结果为：147的四种形式\n",
    "print(\"########### The format of the '147' output are here. ##############\")\n",
    "print(s[1::3])\n",
    "print(s[-9::3])\n",
    "print(s[1:-2:3])\n",
    "print(s[-9:-2:3])\n",
    "print(\"--------------------------------------\")\n",
    "# 写出结果为：0246的几种形式\n",
    "print(\"########### The format of the '0246' output are here. ##############\")\n",
    "print(s[0:-3:2])\n",
    "print(s[-10:-3:2])\n",
    "print(s[-10:7:2])\n",
    "print(s[:-3:2])\n",
    "print(\"--------------------------------------\")\n",
    "# 写出结果为：8642的几种形式\n",
    "print(\"########### The format of the '8642' output are here. ##############\")\n",
    "print(s[-2:0:-2])\n",
    "print(s[8:0:-2])\n",
    "print(\"--------------------------------------\")\n",
    "# 写出结果为：02468的形式\n",
    "print(\"########### The format of the '02468' output are here. ##############\")\n",
    "print(s[::2])\n",
    "print(\"--------------------------------------\")"
   ]
  },
  {
   "cell_type": "code",
   "execution_count": 91,
   "metadata": {},
   "outputs": [
    {
     "name": "stdout",
     "output_type": "stream",
     "text": [
      "########### The format of the '630' output are here. ##############\n",
      "630\n",
      "630\n",
      "630\n",
      "630\n",
      "--------------------------------------\n",
      "########### The format of the '62' output are here. ##############\n",
      "62\n",
      "62\n",
      "--------------------------------------\n",
      "########### The format of the '86420' output are here. ##############\n",
      "86420\n",
      "86420\n",
      "86420\n",
      "--------------------------------------\n",
      "########### The format of the '9876543210' output are here. ##############\n",
      "9876543210\n",
      "--------------------------------------\n"
     ]
    }
   ],
   "source": [
    "s='0123456789'\n",
    "# 写出结果为：630的四种形式\n",
    "print(\"########### The format of the '630' output are here. ##############\")\n",
    "print(s[6::-3])\n",
    "print(s[-4::-3])\n",
    "print(s[0:7:3][::-1])\n",
    "print(s[:7:3][::-1])\n",
    "print(\"--------------------------------------\")\n",
    "# 写出结果为：62的几种形式\n",
    "print(\"########### The format of the '62' output are here. ##############\")\n",
    "print(s[2:-3:4][::-1])\n",
    "print(s[-4:1:-4])\n",
    "print(\"--------------------------------------\")\n",
    "# 写出结果为：86420的几种形式\n",
    "print(\"########### The format of the '86420' output are here. ##############\")\n",
    "print(s[-2::-2])\n",
    "print(s[0:-1:2][::-1])\n",
    "print(s[:-1:2][::-1])\n",
    "print(\"--------------------------------------\")\n",
    "# 写出结果为：9876543210的形式\n",
    "print(\"########### The format of the '9876543210' output are here. ##############\")\n",
    "print(s[::-1])\n",
    "print(\"--------------------------------------\")\n"
   ]
  },
  {
   "cell_type": "markdown",
   "metadata": {},
   "source": [
    "# 3.math库使用练习"
   ]
  },
  {
   "cell_type": "code",
   "execution_count": 121,
   "metadata": {},
   "outputs": [
    {
     "name": "stdin",
     "output_type": "stream",
     "text": [
      "请你输入半径:(单位:米) 2\n"
     ]
    },
    {
     "name": "stdout",
     "output_type": "stream",
     "text": [
      "12.566370614359172 平方米\n",
      "--------------------------------------\n"
     ]
    },
    {
     "name": "stdin",
     "output_type": "stream",
     "text": [
      "请你输入角度值:(单位:度) 2\n"
     ]
    },
    {
     "name": "stdout",
     "output_type": "stream",
     "text": [
      "该角度对应的正弦值: 0.03489949670250097\n",
      "该角度对应的余弦值 0.9993908270190958\n",
      "该角度对应的正切值 0.03492076949174773\n",
      "--------------------------------------\n"
     ]
    },
    {
     "name": "stdin",
     "output_type": "stream",
     "text": [
      "请输入一个数字: 2\n"
     ]
    },
    {
     "name": "stdout",
     "output_type": "stream",
     "text": [
      "该数对应的开方结果为: 1.4142135623730951\n",
      "--------------------------------------\n"
     ]
    },
    {
     "name": "stdin",
     "output_type": "stream",
     "text": [
      "请你输入一个点的坐标(example:2 3) 2 4\n"
     ]
    },
    {
     "name": "stdout",
     "output_type": "stream",
     "text": [
      "距离为:  4.47213595499958\n",
      "--------------------------------------\n"
     ]
    },
    {
     "name": "stdin",
     "output_type": "stream",
     "text": [
      "请你输入一个小数 2.3\n"
     ]
    },
    {
     "name": "stdout",
     "output_type": "stream",
     "text": [
      "整数部分的三次方为:  8\n",
      "小数部分的三次方为:  0.02699999999999995\n",
      "--------------------------------------\n"
     ]
    },
    {
     "name": "stdin",
     "output_type": "stream",
     "text": [
      "请你输入四个浮点数(example: 2.3 4.7 2.4 3.6) 1.1 0.9 4 2\n"
     ]
    },
    {
     "name": "stdout",
     "output_type": "stream",
     "text": [
      "True\n",
      "--------------------------------------\n"
     ]
    },
    {
     "name": "stdin",
     "output_type": "stream",
     "text": [
      "请你输入一个正浮点数:  2.333\n"
     ]
    },
    {
     "name": "stdout",
     "output_type": "stream",
     "text": [
      "该数字向上取整数值为: 3\n",
      "该数字向下取整数值为: 2\n",
      "--------------------------------------\n"
     ]
    },
    {
     "name": "stdin",
     "output_type": "stream",
     "text": [
      "请你输入一个负浮点数:  -23.1234\n"
     ]
    },
    {
     "name": "stdout",
     "output_type": "stream",
     "text": [
      "该数字向上取整数值为: -23\n",
      "该数字向下取整数值为: -24\n",
      "--------------------------------------\n"
     ]
    }
   ],
   "source": [
    "import math\n",
    "#1.输入半径，输出面积\n",
    "r = float(input(\"请你输入半径:(单位:米)\"))\n",
    "print(math.pi * r * r, \"平方米\")\n",
    "print(\"--------------------------------------\")\n",
    "#2.输入角度值，输出三角函数：正弦、余弦和正切\n",
    "angle_val = float(input(\"请你输入角度值:(单位:度)\"))\n",
    "angle = (angle_val * math.pi) / 180\n",
    "print(\"该角度对应的正弦值:\", + math.sin(angle))\n",
    "print(\"该角度对应的余弦值\", + math.cos(angle))\n",
    "print(\"该角度对应的正切值\", + math.tan(angle))\n",
    "print(\"--------------------------------------\")\n",
    "#3.输入一个数，输出开平方的结果\n",
    "num = float(input(\"请输入一个数字:\"))\n",
    "print(\"该数对应的开方结果为:\", math.sqrt(num))\n",
    "print(\"--------------------------------------\")\n",
    "#4.输入一个点的坐标，输出到原点的距离\n",
    "point_x, point_y = input(\"请你输入一个点的坐标(example:2 3)\").split(' ')\n",
    "distance = math.sqrt(float(point_x)**2 + float(point_y)**2)\n",
    "print(\"距离为: \", distance)\n",
    "print(\"--------------------------------------\")\n",
    "#5.输入一个小数，输出整数部分的三次方和小数部分的三次方\n",
    "float_num = float(input(\"请你输入一个小数\"))\n",
    "print(\"整数部分的三次方为: \", math.floor(float_num)**3)\n",
    "print(\"小数部分的三次方为: \", (float_num - math.floor(float_num))**3)\n",
    "print(\"--------------------------------------\")\n",
    "#6.输入四个浮点数abcd，输出判断a+b是否等于c-d\n",
    "a, b, c, d = input(\"请你输入四个浮点数(example: 2.3 4.7 2.4 3.6)\").split(' ')\n",
    "print((float(a) + float(b)) == float(c) - float(d))\n",
    "print(\"--------------------------------------\")\n",
    "#7.输入一个正浮点数，输出其上取整和下取整。\n",
    "postive_float = float(input(\"请你输入一个正浮点数: \"))\n",
    "if postive_float > 0:\n",
    "    print(\"该数字向上取整数值为:\", math.ceil(postive_float))\n",
    "    print(\"该数字向下取整数值为:\", math.floor(postive_float))\n",
    "else: \n",
    "    print(\"非法输入\")\n",
    "print(\"--------------------------------------\")\n",
    "#8.输入一个负浮点数，输出其上取整和下取整。\n",
    "negative_float = float(input(\"请你输入一个负浮点数: \"))\n",
    "if negative_float < 0:\n",
    "    print(\"该数字向上取整数值为:\", math.ceil(negative_float))\n",
    "    print(\"该数字向下取整数值为:\", math.floor(negative_float))\n",
    "else:\n",
    "    print(\"非法输入\")\n",
    "print(\"--------------------------------------\")"
   ]
  },
  {
   "cell_type": "markdown",
   "metadata": {},
   "source": [
    "# 4.range函数练习"
   ]
  },
  {
   "cell_type": "code",
   "execution_count": 125,
   "metadata": {},
   "outputs": [
    {
     "name": "stdout",
     "output_type": "stream",
     "text": [
      "[1, 2, 3, 4, 5, 6, 7, 8, 9, 10, 11, 12, 13, 14, 15, 16, 17, 18, 19, 20, 21, 22, 23, 24, 25, 26, 27, 28, 29, 30, 31, 32, 33, 34, 35, 36, 37, 38, 39, 40, 41, 42, 43, 44, 45, 46, 47, 48, 49, 50, 51, 52, 53, 54, 55, 56, 57, 58, 59, 60, 61, 62, 63, 64, 65, 66, 67, 68, 69, 70, 71, 72, 73, 74, 75, 76, 77, 78, 79, 80, 81, 82, 83, 84, 85, 86, 87, 88, 89, 90, 91, 92, 93, 94, 95, 96, 97, 98, 99, 100]\n",
      "--------------------------------------\n"
     ]
    },
    {
     "name": "stdin",
     "output_type": "stream",
     "text": [
      "请你输入四个整数(example: 1 3 4 2) 2 3 1 4\n"
     ]
    },
    {
     "name": "stdout",
     "output_type": "stream",
     "text": [
      "['2', '3', '1', '4']\n",
      "--------------------------------------\n",
      "[2]\n",
      "--------------------------------------\n",
      "False\n",
      "--------------------------------------\n"
     ]
    }
   ],
   "source": [
    "#生成一个1-100的整数列表\n",
    "print(list(range(1,101)))\n",
    "print(\"--------------------------------------\")\n",
    "#输入四个整数a,b,c,d\n",
    "str = input(\"请你输入四个整数(example: 1 3 4 2)\").split(' ')\n",
    "print(str)\n",
    "a = int(str[0])\n",
    "b = int(str[1])\n",
    "c = int(str[2])\n",
    "d = int(str[3])\n",
    "print(\"--------------------------------------\")\n",
    "#使用range函数生成一个序列：a为起始，b为结束，c为步长。\n",
    "seq = list(range(a,b,c))\n",
    "print(seq)\n",
    "print(\"--------------------------------------\")\n",
    "#判断d是否在序列中，输出结果\n",
    "print(d in seq)\n",
    "print(\"--------------------------------------\")"
   ]
  }
 ],
 "metadata": {
  "kernelspec": {
   "display_name": "Python 3 (ipykernel)",
   "language": "python",
   "name": "python3"
  },
  "language_info": {
   "codemirror_mode": {
    "name": "ipython",
    "version": 3
   },
   "file_extension": ".py",
   "mimetype": "text/x-python",
   "name": "python",
   "nbconvert_exporter": "python",
   "pygments_lexer": "ipython3",
   "version": "3.11.5"
  },
  "varInspector": {
   "cols": {
    "lenName": 16,
    "lenType": 16,
    "lenVar": 40
   },
   "kernels_config": {
    "python": {
     "delete_cmd_postfix": "",
     "delete_cmd_prefix": "del ",
     "library": "var_list.py",
     "varRefreshCmd": "print(var_dic_list())"
    },
    "r": {
     "delete_cmd_postfix": ") ",
     "delete_cmd_prefix": "rm(",
     "library": "var_list.r",
     "varRefreshCmd": "cat(var_dic_list()) "
    }
   },
   "types_to_exclude": [
    "module",
    "function",
    "builtin_function_or_method",
    "instance",
    "_Feature"
   ],
   "window_display": false
  }
 },
 "nbformat": 4,
 "nbformat_minor": 4
}
