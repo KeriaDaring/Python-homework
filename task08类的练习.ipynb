{
 "cells": [
  {
   "cell_type": "markdown",
   "metadata": {},
   "source": [
    "# task-08 类的练习"
   ]
  },
  {
   "cell_type": "markdown",
   "metadata": {},
   "source": [
    "（1）根据下面的要求实现“人”类Person：\n",
    "          Person类的属性：\n",
    "\tname　 姓名　，私有属性（注意私有属性的设置方式）\n",
    "\tsex    性别  ，私有属性\n",
    "          Person类的方法:\n",
    "\t构造方法 ，有参数(self，name, sex)　\n",
    "\tget_name(self)　获得人的姓名\n",
    "\tget_sex(self)　获得人的性别，返回’男’,或‘女’\n",
    "\tset_name(self,name)　设置姓名\n",
    "\tset_sex(self,sex)　设置性别,只能接受’m’,’w’或’M’,’W’，表示男，女。\n",
    "\t__str__(self)方法，　返回人的姓名和性别"
   ]
  },
  {
   "cell_type": "code",
   "execution_count": 2,
   "metadata": {},
   "outputs": [
    {
     "data": {
      "text/plain": [
       "'小明 女'"
      ]
     },
     "execution_count": 2,
     "metadata": {},
     "output_type": "execute_result"
    }
   ],
   "source": [
    "class Person:\n",
    "    def __init__(self, name, sex):\n",
    "        self.set_name(name)\n",
    "        self.set_sex(sex)\n",
    "    def get_name(self):\n",
    "        return self.__name\n",
    "    def get_sex(self):\n",
    "        if str(self.__sex).upper() == 'M':\n",
    "            return \"男\"\n",
    "        else:\n",
    "            return \"女\" \n",
    "    def set_name(self, name):\n",
    "        self.__name = name\n",
    "    def set_sex(self, sex):\n",
    "        self.__sex = sex\n",
    "    def __str__(self):\n",
    "        return self.get_name() + \" \" + self.get_sex()\n",
    "person_1 = Person(\"小明\", 'w')\n",
    "\n",
    "print(person_1)\n"
   ]
  },
  {
   "cell_type": "code",
   "execution_count": null,
   "metadata": {},
   "outputs": [],
   "source": [
    "(2)继承上题中的Person类，派生学生类Student，要求如下：\n",
    "          Student类的成员变量：\n",
    "\tscore 表示学生的成绩（整数类型），私有属性\n",
    "          Student类的方法成员：\n",
    "\t构造方法 ，参数(self，name, sex，score)　，前两个参数调用父类方法设置\n",
    "\tgetScore (self)　获得学生的成绩\n",
    "setScore (self，score)　设置学生的成绩，验证成绩在0-100之间有效\n",
    "\t__str__(self)方法，　返回人的姓名和性别和成绩\n"
   ]
  },
  {
   "cell_type": "code",
   "execution_count": 9,
   "metadata": {},
   "outputs": [
    {
     "data": {
      "text/plain": [
       "'小红 女 100.0'"
      ]
     },
     "execution_count": 9,
     "metadata": {},
     "output_type": "execute_result"
    }
   ],
   "source": [
    "class Student(Person):\n",
    "    def __init__(self, name, sex, score):\n",
    "        super(Student, self).__init__(name, sex)\n",
    "        self.setScore(score)\n",
    "    def getScore(self):\n",
    "        return self.__score\n",
    "    def setScore(self, score):\n",
    "        if float(score) >= 0 or float(score) <= 100:\n",
    "            self.__score = float(score)\n",
    "    def __str__(self):\n",
    "        return super().get_name() + \" \" + super().get_sex() + \" \" + str(self.getScore())\n",
    "stu_1 = Student('小红', 'w', 100)\n",
    "print(stu_1)\n",
    "\n"
   ]
  },
  {
   "cell_type": "code",
   "execution_count": null,
   "metadata": {},
   "outputs": [],
   "source": [
    "(3)根据你上面的设计，若有语句：\n",
    "s0=Person(“wang”, “m”);\n",
    "print(s0)\n",
    "s1=Student(“lee”, “W”,90);\n",
    "print(s1.__str__())\n",
    "请写出上面程序段的运行结果。"
   ]
  },
  {
   "cell_type": "markdown",
   "metadata": {},
   "source": [
    "wang 男\n",
    "lee 女 90.0"
   ]
  }
 ],
 "metadata": {
  "kernelspec": {
   "display_name": "Python 3 (ipykernel)",
   "language": "python",
   "name": "python3"
  },
  "language_info": {
   "codemirror_mode": {
    "name": "ipython",
    "version": 3
   },
   "file_extension": ".py",
   "mimetype": "text/x-python",
   "name": "python",
   "nbconvert_exporter": "python",
   "pygments_lexer": "ipython3",
   "version": "3.11.8"
  },
  "varInspector": {
   "cols": {
    "lenName": 16,
    "lenType": 16,
    "lenVar": 40
   },
   "kernels_config": {
    "python": {
     "delete_cmd_postfix": "",
     "delete_cmd_prefix": "del ",
     "library": "var_list.py",
     "varRefreshCmd": "print(var_dic_list())"
    },
    "r": {
     "delete_cmd_postfix": ") ",
     "delete_cmd_prefix": "rm(",
     "library": "var_list.r",
     "varRefreshCmd": "cat(var_dic_list()) "
    }
   },
   "types_to_exclude": [
    "module",
    "function",
    "builtin_function_or_method",
    "instance",
    "_Feature"
   ],
   "window_display": true
  }
 },
 "nbformat": 4,
 "nbformat_minor": 4
}
