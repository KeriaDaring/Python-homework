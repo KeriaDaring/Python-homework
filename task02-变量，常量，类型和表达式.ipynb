{
 "cells": [
  {
   "cell_type": "markdown",
   "metadata": {},
   "source": [
    "### task02-变量，常量，类型和表达式"
   ]
  },
  {
   "cell_type": "markdown",
   "metadata": {},
   "source": [
    "#### 1.Python在使用标识符时，需要注意的规则"
   ]
  },
  {
   "cell_type": "markdown",
   "metadata": {},
   "source": [
    "1. 不能使用数字开头\n",
    "2. 类名首字母大写，方法和变量名称小写 \n",
    "3. 遵循蛇形命名法\n",
    "4. 定义的变量名和函数名不能包含保留字\n",
    "5. 不能通过特殊符号作为命名开头首字母\n",
    "6. 下划线的使用\n",
    "    - 单下划线开头表示类中的需要通过接口方法进行访问的属性\n",
    "    - 双下划线开头表示类中的私有属性\n",
    "    - 双下划线作为前后缀的方法和变量都表示python自带的一些具有特征的值\n",
    "7. 命名需要见名知意"
   ]
  },
  {
   "cell_type": "markdown",
   "metadata": {},
   "source": [
    "#### 2.python的数据类型有哪六种？其中数字类型有哪四种？"
   ]
  },
  {
   "cell_type": "markdown",
   "metadata": {},
   "source": [
    "### 数据类型\n",
    "1. 整形\n",
    "2. 浮点\n",
    "3. 复数\n",
    "4. 布尔型\n",
    "5. 字符串\n",
    "6. 集合 \n",
    "7. 列表\n",
    "8. 字典\n",
    "9. 元组\n",
    "### 数字类型\n",
    "- 整形、浮点型、复数、布尔型"
   ]
  },
  {
   "cell_type": "markdown",
   "metadata": {},
   "source": [
    "#### 3.对每一种类型分别举例说明（赋值，打印，输出其类型）"
   ]
  },
  {
   "cell_type": "code",
   "execution_count": 6,
   "metadata": {},
   "outputs": [
    {
     "data": {
      "text/plain": [
       "(2.3+4j)"
      ]
     },
     "execution_count": 6,
     "metadata": {},
     "output_type": "execute_result"
    }
   ],
   "source": [
    "# 变量定义\n",
    "int_val = 2\n",
    "float_val =2.3333\n",
    "complex_val = 2.3+4j\n",
    "bool_val = True\n",
    "str_val = '这是一个字符串哦'\n",
    "list_val = [2,3,4,2.33,43,2]\n",
    "set_val = set(list_val)\n",
    "dist_val = {'name': 'Jack', 'age': 20, 'sex': 'male'}\n",
    "tuple_val = (2, 3, '你好', True)\n",
    "\n",
    "# 类型查看\n",
    "type(int_val), type(float_val), type(complex_val), type(bool_val), type(str_val), type(list_val), type(set_val), type(dist_val), type(tuple_val)\n",
    "\n",
    "# 类型值输出形式 tips\n",
    "complex_val"
   ]
  },
  {
   "cell_type": "markdown",
   "metadata": {},
   "source": [
    "#### 4.Python拆包式赋值举3例"
   ]
  },
  {
   "cell_type": "code",
   "execution_count": 8,
   "metadata": {},
   "outputs": [
    {
     "data": {
      "text/plain": [
       "(2, 3, '混入其中', '你好', True)"
      ]
     },
     "execution_count": 8,
     "metadata": {},
     "output_type": "execute_result"
    }
   ],
   "source": [
    "val_1, val_2, val_3, val_4 = tuple_val\n",
    "val_1, val_2, '混入其中',  val_3, val_4"
   ]
  },
  {
   "cell_type": "markdown",
   "metadata": {},
   "source": [
    "#### 5.运算符操作自行举15例"
   ]
  },
  {
   "cell_type": "code",
   "execution_count": 22,
   "metadata": {},
   "outputs": [
    {
     "data": {
      "text/plain": [
       "(3, -1, 2, 0.5, 0, 1, 1, -2, 3, False, False, True, True, False, 0, 2, 0, 3)"
      ]
     },
     "execution_count": 22,
     "metadata": {},
     "output_type": "execute_result"
    }
   ],
   "source": [
    "a = 1\n",
    "b = 2\n",
    "c = True\n",
    "\n",
    "a + b, a - b, a * b, a / b, a // b, a % b, a ** b, ~c, a^b, a > b, \\\n",
    "a >=b, a < b, a <= b, a == b,  a & b,  a << 1, a >> 1, a | b"
   ]
  },
  {
   "cell_type": "markdown",
   "metadata": {},
   "source": [
    "#### 6.如果开发者尝试使用关键字作为变量名，Python 解释器会报错吗？ 如果开发者使用内置函数的名字作为变量名，Python 解释器会报错吗？ 试举例说明。"
   ]
  },
  {
   "cell_type": "code",
   "execution_count": 27,
   "metadata": {},
   "outputs": [
    {
     "ename": "SyntaxError",
     "evalue": "invalid syntax (4207967597.py, line 2)",
     "output_type": "error",
     "traceback": [
      "\u001b[0;36m  Cell \u001b[0;32mIn[27], line 2\u001b[0;36m\u001b[0m\n\u001b[0;31m    class = 'a'\u001b[0m\n\u001b[0m          ^\u001b[0m\n\u001b[0;31mSyntaxError\u001b[0m\u001b[0;31m:\u001b[0m invalid syntax\n"
     ]
    }
   ],
   "source": [
    "### 问题一\n",
    "class = 'a'\n",
    "#由此可以见是不可以的， class会被自动识别为一个关键字，并且无法对其进行赋值"
   ]
  },
  {
   "cell_type": "code",
   "execution_count": 72,
   "metadata": {},
   "outputs": [
    {
     "data": {
      "text/plain": [
       "'你好'"
      ]
     },
     "execution_count": 72,
     "metadata": {},
     "output_type": "execute_result"
    }
   ],
   "source": [
    "### 问题二\n",
    "input = '你好'\n",
    "input"
   ]
  },
  {
   "cell_type": "code",
   "execution_count": 73,
   "metadata": {},
   "outputs": [
    {
     "ename": "TypeError",
     "evalue": "'str' object is not callable",
     "output_type": "error",
     "traceback": [
      "\u001b[0;31m---------------------------------------------------------------------------\u001b[0m",
      "\u001b[0;31mTypeError\u001b[0m                                 Traceback (most recent call last)",
      "Cell \u001b[0;32mIn[73], line 1\u001b[0m\n\u001b[0;32m----> 1\u001b[0m a \u001b[38;5;241m=\u001b[39m \u001b[38;5;28minput\u001b[39m(\u001b[38;5;124m'\u001b[39m\u001b[38;5;124m'\u001b[39m)\n",
      "\u001b[0;31mTypeError\u001b[0m: 'str' object is not callable"
     ]
    }
   ],
   "source": [
    "a = input('')\n",
    "### 由此可见 是可以将内置函数名称作为变量名字的，但是原函数会被覆盖，不能再作为函数进行使用 "
   ]
  },
  {
   "cell_type": "markdown",
   "metadata": {},
   "source": [
    "#### 7.应用题"
   ]
  },
  {
   "cell_type": "markdown",
   "metadata": {},
   "source": [
    "（1）录入学生信息（姓名，年龄，性别，成绩），在一行输出信息。"
   ]
  },
  {
   "cell_type": "code",
   "execution_count": 38,
   "metadata": {},
   "outputs": [
    {
     "name": "stdout",
     "output_type": "stream",
     "text": [
      "小明 的个人信息如下:\n",
      "age:18\n",
      "sex:male\n",
      "score:98\n"
     ]
    }
   ],
   "source": [
    "name = '小明'\n",
    "age = 18\n",
    "sex = 'male'\n",
    "score = 98\n",
    "\n",
    "print(name, '的个人信息如下:')\n",
    "print(f'age:{age}', f'sex:{sex}', f'score:{score}', sep='\\n')"
   ]
  },
  {
   "cell_type": "markdown",
   "metadata": {},
   "source": [
    "（2）输入商品单价、数量、收到的金额，输出应该找回多少钱。"
   ]
  },
  {
   "cell_type": "code",
   "execution_count": 50,
   "metadata": {},
   "outputs": [
    {
     "name": "stdin",
     "output_type": "stream",
     "text": [
      "依次输入商品单价、数量、收到的金额 2,3,4\n"
     ]
    },
    {
     "name": "stdout",
     "output_type": "stream",
     "text": [
      " 2\n"
     ]
    }
   ],
   "source": [
    "# del input #消除之前的覆盖影响\n",
    "msg = input(\"依次输入商品单价、数量、收到的金额\")\n",
    "\n",
    "price, num, profit = msg.split(',')\n",
    "\n",
    "print('', int(price) * int(num)  - int(profit))"
   ]
  },
  {
   "cell_type": "markdown",
   "metadata": {},
   "source": [
    "（3）输入一个总秒数时间长度，输出该时间长包含多少小时多少分多少秒。"
   ]
  },
  {
   "cell_type": "code",
   "execution_count": 57,
   "metadata": {},
   "outputs": [
    {
     "name": "stdin",
     "output_type": "stream",
     "text": [
      "输入一个总秒数时间长度 2333333333\n"
     ]
    },
    {
     "name": "stdout",
     "output_type": "stream",
     "text": [
      "This duraiton contains hours: 648148 h minutes 38888888 min seconds:2333333333 s\n"
     ]
    }
   ],
   "source": [
    "total_duration = input(\"输入一个总秒数时间长度\")\n",
    "seconds = float(total_duration)\n",
    "hours = seconds / 60 // 60\n",
    "minutes = seconds // 60\n",
    "print(\"This duraiton contains\", f'hours: {int(hours)} h', f'minutes {int(minutes)} min', f'seconds:{total_duration} s')"
   ]
  },
  {
   "cell_type": "markdown",
   "metadata": {},
   "source": [
    "（4）输入一个4位整数，输出各个数字之和。"
   ]
  },
  {
   "cell_type": "code",
   "execution_count": 59,
   "metadata": {},
   "outputs": [
    {
     "name": "stdin",
     "output_type": "stream",
     "text": [
      "输入四位整数 2333\n"
     ]
    },
    {
     "name": "stdout",
     "output_type": "stream",
     "text": [
      "11\n"
     ]
    }
   ],
   "source": [
    "input_num = input(\"输入四位整数\")\n",
    "sum = 0\n",
    "for i in iter(input_num):\n",
    "    sum += int(i)\n",
    "print(sum)"
   ]
  },
  {
   "cell_type": "markdown",
   "metadata": {},
   "source": [
    "（5）输入年份，输出是否闰年。"
   ]
  },
  {
   "cell_type": "code",
   "execution_count": 63,
   "metadata": {},
   "outputs": [
    {
     "name": "stdin",
     "output_type": "stream",
     "text": [
      "输入一个年份 2003\n",
      "输入一个年份 2008\n"
     ]
    },
    {
     "data": {
      "text/plain": [
       "(False, True)"
      ]
     },
     "execution_count": 63,
     "metadata": {},
     "output_type": "execute_result"
    }
   ],
   "source": [
    "def is_leap_year(year):\n",
    "    if (year % 4 == 0 and year % 100!= 0) or (year % 400 == 0):\n",
    "        return True\n",
    "    else:\n",
    "        return False\n",
    "\n",
    "year_1 = int(input(\"输入一个年份\"))\n",
    "year_2 = int(input(\"输入一个年份\"))\n",
    "is_leap_year(year_1), is_leap_year(year_2)"
   ]
  },
  {
   "cell_type": "markdown",
   "metadata": {},
   "source": [
    "（6）输入摄氏度，转换为华氏度。公式 F=（C×9÷5）+32。"
   ]
  },
  {
   "cell_type": "code",
   "execution_count": 70,
   "metadata": {},
   "outputs": [
    {
     "name": "stdin",
     "output_type": "stream",
     "text": [
      "输入摄氏度 20\n"
     ]
    },
    {
     "data": {
      "text/plain": [
       "'68.0℉'"
      ]
     },
     "execution_count": 70,
     "metadata": {},
     "output_type": "execute_result"
    }
   ],
   "source": [
    "degree_celsius = float(input(\"输入摄氏度\"))\n",
    "\n",
    "str(degree_celsius * 9 / 5 + 32) + \"℉\""
   ]
  },
  {
   "cell_type": "markdown",
   "metadata": {},
   "source": [
    ">  [华氏度符号链接](https://baike.baidu.com/item/%E5%8D%8E%E6%B0%8F%E5%BA%A6/9982416#:~:text=%E5%8D%8E%E6%B0%8F%E5%BA%A6%EF%BC%88Fahrenheit%20scale%EF%BC%89%EF%BC%8C,%E6%B8%A9%E5%BA%A6%E7%9A%84%E5%8D%95%E4%BD%8D%EF%BC%8C%E7%AC%A6%E5%8F%B7%E2%84%89%E3%80%82)"
   ]
  }
 ],
 "metadata": {
  "kernelspec": {
   "display_name": "Python 3 (ipykernel)",
   "language": "python",
   "name": "python3"
  },
  "language_info": {
   "codemirror_mode": {
    "name": "ipython",
    "version": 3
   },
   "file_extension": ".py",
   "mimetype": "text/x-python",
   "name": "python",
   "nbconvert_exporter": "python",
   "pygments_lexer": "ipython3",
   "version": "3.11.5"
  },
  "toc": {
   "base_numbering": 1,
   "nav_menu": {},
   "number_sections": true,
   "sideBar": true,
   "skip_h1_title": false,
   "title_cell": "Table of Contents",
   "title_sidebar": "Contents",
   "toc_cell": false,
   "toc_position": {},
   "toc_section_display": true,
   "toc_window_display": false
  },
  "varInspector": {
   "cols": {
    "lenName": 16,
    "lenType": 16,
    "lenVar": 40
   },
   "kernels_config": {
    "python": {
     "delete_cmd_postfix": "",
     "delete_cmd_prefix": "del ",
     "library": "var_list.py",
     "varRefreshCmd": "print(var_dic_list())"
    },
    "r": {
     "delete_cmd_postfix": ") ",
     "delete_cmd_prefix": "rm(",
     "library": "var_list.r",
     "varRefreshCmd": "cat(var_dic_list()) "
    }
   },
   "types_to_exclude": [
    "module",
    "function",
    "builtin_function_or_method",
    "instance",
    "_Feature"
   ],
   "window_display": false
  }
 },
 "nbformat": 4,
 "nbformat_minor": 4
}
